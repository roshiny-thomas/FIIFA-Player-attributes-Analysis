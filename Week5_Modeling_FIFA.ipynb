{
 "cells": [
  {
   "cell_type": "markdown",
   "metadata": {},
   "source": [
    "# FIFA Player Attributes & Scores"
   ]
  },
  {
   "cell_type": "markdown",
   "metadata": {},
   "source": [
    "This dataset gives information about several football players with respect to their performance scores in various aspects. To be precise, the data contains 43 attributes, of which 5 are non-essential (ID's and date), leaving us with 38 important attributes. For each attribute, higher the score, better the player's performance in that aspect. The dataset contains 2 notable variables: overall_rating and potential rating. Based on a player's performance and reputation, talent scouts will assign overall ratings & potential ratings to players, and classify them as \"Showing great potential\", \"Exciting prospect\", \"Has the potential to be special\", \"Dynamic potential\" etc. \n",
    "\n",
    "Each player in FIFA Ultimate Team has an overall rating as well as six scores for the key stats: Pace, Shooting, Passing, Dribbling, Defending, and Physical (These have been named slightly different in our dataset, for eg. Shooting is 'shot_power'). These stats are combined with a player's international recognition to calculate the player's overall rating.\n",
    "\n",
    "We will utilize this dataset to predict a player's overall_rating."
   ]
  },
  {
   "cell_type": "code",
   "execution_count": 290,
   "metadata": {},
   "outputs": [],
   "source": [
    "import numpy as np\n",
    "import pandas as pd\n",
    "import matplotlib.pyplot as plt\n",
    "import seaborn as sns\n",
    "%matplotlib inline"
   ]
  },
  {
   "cell_type": "code",
   "execution_count": 415,
   "metadata": {},
   "outputs": [],
   "source": [
    "player=pd.read_csv('Player_Attributes.csv')"
   ]
  },
  {
   "cell_type": "markdown",
   "metadata": {},
   "source": [
    "### Data Analysis\n",
    "\n",
    "All variables do not have equal numbers of non-null values. Data needs cleaning."
   ]
  },
  {
   "cell_type": "code",
   "execution_count": 406,
   "metadata": {},
   "outputs": [
    {
     "name": "stdout",
     "output_type": "stream",
     "text": [
      "<class 'pandas.core.frame.DataFrame'>\n",
      "RangeIndex: 183978 entries, 0 to 183977\n",
      "Data columns (total 43 columns):\n",
      "Unnamed: 0             183978 non-null int64\n",
      "id                     183978 non-null int64\n",
      "player_fifa_api_id     183978 non-null int64\n",
      "player_api_id          183978 non-null int64\n",
      "date                   183978 non-null object\n",
      "overall_rating         183142 non-null float64\n",
      "potential              183142 non-null float64\n",
      "preferred_foot         183142 non-null object\n",
      "attacking_work_rate    180748 non-null object\n",
      "defensive_work_rate    183142 non-null object\n",
      "crossing               183142 non-null float64\n",
      "finishing              183142 non-null float64\n",
      "heading_accuracy       183142 non-null float64\n",
      "short_passing          183142 non-null float64\n",
      "volleys                181265 non-null float64\n",
      "dribbling              183142 non-null float64\n",
      "curve                  181265 non-null float64\n",
      "free_kick_accuracy     183142 non-null float64\n",
      "long_passing           183142 non-null float64\n",
      "ball_control           183142 non-null float64\n",
      "acceleration           183142 non-null float64\n",
      "sprint_speed           183142 non-null float64\n",
      "agility                181265 non-null float64\n",
      "reactions              183142 non-null float64\n",
      "balance                181265 non-null float64\n",
      "shot_power             183142 non-null float64\n",
      "jumping                181265 non-null float64\n",
      "stamina                183142 non-null float64\n",
      "strength               183142 non-null float64\n",
      "long_shots             183142 non-null float64\n",
      "aggression             183142 non-null float64\n",
      "interceptions          183142 non-null float64\n",
      "positioning            183142 non-null float64\n",
      "vision                 181265 non-null float64\n",
      "penalties              183142 non-null float64\n",
      "marking                183142 non-null float64\n",
      "standing_tackle        183142 non-null float64\n",
      "sliding_tackle         181265 non-null float64\n",
      "gk_diving              183142 non-null float64\n",
      "gk_handling            183142 non-null float64\n",
      "gk_kicking             183142 non-null float64\n",
      "gk_positioning         183142 non-null float64\n",
      "gk_reflexes            183142 non-null float64\n",
      "dtypes: float64(35), int64(4), object(4)\n",
      "memory usage: 60.4+ MB\n"
     ]
    }
   ],
   "source": [
    "player.info()"
   ]
  },
  {
   "cell_type": "code",
   "execution_count": 292,
   "metadata": {},
   "outputs": [
    {
     "data": {
      "text/html": [
       "<div>\n",
       "<style scoped>\n",
       "    .dataframe tbody tr th:only-of-type {\n",
       "        vertical-align: middle;\n",
       "    }\n",
       "\n",
       "    .dataframe tbody tr th {\n",
       "        vertical-align: top;\n",
       "    }\n",
       "\n",
       "    .dataframe thead th {\n",
       "        text-align: right;\n",
       "    }\n",
       "</style>\n",
       "<table border=\"1\" class=\"dataframe\">\n",
       "  <thead>\n",
       "    <tr style=\"text-align: right;\">\n",
       "      <th></th>\n",
       "      <th>Unnamed: 0</th>\n",
       "      <th>id</th>\n",
       "      <th>player_fifa_api_id</th>\n",
       "      <th>player_api_id</th>\n",
       "      <th>date</th>\n",
       "      <th>overall_rating</th>\n",
       "      <th>potential</th>\n",
       "      <th>preferred_foot</th>\n",
       "      <th>attacking_work_rate</th>\n",
       "      <th>defensive_work_rate</th>\n",
       "      <th>...</th>\n",
       "      <th>vision</th>\n",
       "      <th>penalties</th>\n",
       "      <th>marking</th>\n",
       "      <th>standing_tackle</th>\n",
       "      <th>sliding_tackle</th>\n",
       "      <th>gk_diving</th>\n",
       "      <th>gk_handling</th>\n",
       "      <th>gk_kicking</th>\n",
       "      <th>gk_positioning</th>\n",
       "      <th>gk_reflexes</th>\n",
       "    </tr>\n",
       "  </thead>\n",
       "  <tbody>\n",
       "    <tr>\n",
       "      <th>0</th>\n",
       "      <td>0</td>\n",
       "      <td>1</td>\n",
       "      <td>218353</td>\n",
       "      <td>505942</td>\n",
       "      <td>2016-02-18 00:00:00</td>\n",
       "      <td>67.0</td>\n",
       "      <td>71.0</td>\n",
       "      <td>right</td>\n",
       "      <td>medium</td>\n",
       "      <td>medium</td>\n",
       "      <td>...</td>\n",
       "      <td>54.0</td>\n",
       "      <td>48.0</td>\n",
       "      <td>65.0</td>\n",
       "      <td>69.0</td>\n",
       "      <td>69.0</td>\n",
       "      <td>6.0</td>\n",
       "      <td>11.0</td>\n",
       "      <td>10.0</td>\n",
       "      <td>8.0</td>\n",
       "      <td>8.0</td>\n",
       "    </tr>\n",
       "    <tr>\n",
       "      <th>1</th>\n",
       "      <td>1</td>\n",
       "      <td>2</td>\n",
       "      <td>218353</td>\n",
       "      <td>505942</td>\n",
       "      <td>2015-11-19 00:00:00</td>\n",
       "      <td>67.0</td>\n",
       "      <td>71.0</td>\n",
       "      <td>right</td>\n",
       "      <td>medium</td>\n",
       "      <td>medium</td>\n",
       "      <td>...</td>\n",
       "      <td>54.0</td>\n",
       "      <td>48.0</td>\n",
       "      <td>65.0</td>\n",
       "      <td>69.0</td>\n",
       "      <td>69.0</td>\n",
       "      <td>6.0</td>\n",
       "      <td>11.0</td>\n",
       "      <td>10.0</td>\n",
       "      <td>8.0</td>\n",
       "      <td>8.0</td>\n",
       "    </tr>\n",
       "  </tbody>\n",
       "</table>\n",
       "<p>2 rows × 43 columns</p>\n",
       "</div>"
      ],
      "text/plain": [
       "   Unnamed: 0  id  player_fifa_api_id  player_api_id                 date  \\\n",
       "0           0   1              218353         505942  2016-02-18 00:00:00   \n",
       "1           1   2              218353         505942  2015-11-19 00:00:00   \n",
       "\n",
       "   overall_rating  potential preferred_foot attacking_work_rate  \\\n",
       "0            67.0       71.0          right              medium   \n",
       "1            67.0       71.0          right              medium   \n",
       "\n",
       "  defensive_work_rate     ...       vision  penalties  marking  \\\n",
       "0              medium     ...         54.0       48.0     65.0   \n",
       "1              medium     ...         54.0       48.0     65.0   \n",
       "\n",
       "   standing_tackle  sliding_tackle  gk_diving  gk_handling  gk_kicking  \\\n",
       "0             69.0            69.0        6.0         11.0        10.0   \n",
       "1             69.0            69.0        6.0         11.0        10.0   \n",
       "\n",
       "   gk_positioning  gk_reflexes  \n",
       "0             8.0          8.0  \n",
       "1             8.0          8.0  \n",
       "\n",
       "[2 rows x 43 columns]"
      ]
     },
     "execution_count": 292,
     "metadata": {},
     "output_type": "execute_result"
    }
   ],
   "source": [
    "player.head(2)"
   ]
  },
  {
   "cell_type": "markdown",
   "metadata": {},
   "source": [
    "Visualizing the amount of nulls in each attribute: Does not seem to be a lot"
   ]
  },
  {
   "cell_type": "code",
   "execution_count": 293,
   "metadata": {},
   "outputs": [
    {
     "data": {
      "text/plain": [
       "<matplotlib.axes._subplots.AxesSubplot at 0x21715a7cf28>"
      ]
     },
     "execution_count": 293,
     "metadata": {},
     "output_type": "execute_result"
    },
    {
     "data": {
      "image/png": "[encoded data removed]",
      "text/plain": [
       "<Figure size 864x504 with 1 Axes>"
      ]
     },
     "metadata": {
      "needs_background": "light"
     },
     "output_type": "display_data"
    }
   ],
   "source": [
    "plt.figure(figsize=(12,7))\n",
    "sns.heatmap(player.isnull(), cbar=False, cmap='viridis', yticklabels=False)"
   ]
  },
  {
   "cell_type": "markdown",
   "metadata": {},
   "source": [
    "Checking the %age of nulls in each attribute:"
   ]
  },
  {
   "cell_type": "code",
   "execution_count": 294,
   "metadata": {},
   "outputs": [
    {
     "name": "stdout",
     "output_type": "stream",
     "text": [
      "%age of nulls in various attribues of player:\n",
      "\n",
      "Unnamed: 0 \t 0.0 %\n",
      "id \t 0.0 %\n",
      "player_fifa_api_id \t 0.0 %\n",
      "player_api_id \t 0.0 %\n",
      "date \t 0.0 %\n",
      "overall_rating \t 0.45 %\n",
      "potential \t 0.45 %\n",
      "preferred_foot \t 0.45 %\n",
      "attacking_work_rate \t 1.76 %\n",
      "defensive_work_rate \t 0.45 %\n",
      "crossing \t 0.45 %\n",
      "finishing \t 0.45 %\n",
      "heading_accuracy \t 0.45 %\n",
      "short_passing \t 0.45 %\n",
      "volleys \t 1.47 %\n",
      "dribbling \t 0.45 %\n",
      "curve \t 1.47 %\n",
      "free_kick_accuracy \t 0.45 %\n",
      "long_passing \t 0.45 %\n",
      "ball_control \t 0.45 %\n",
      "acceleration \t 0.45 %\n",
      "sprint_speed \t 0.45 %\n",
      "agility \t 1.47 %\n",
      "reactions \t 0.45 %\n",
      "balance \t 1.47 %\n",
      "shot_power \t 0.45 %\n",
      "jumping \t 1.47 %\n",
      "stamina \t 0.45 %\n",
      "strength \t 0.45 %\n",
      "long_shots \t 0.45 %\n",
      "aggression \t 0.45 %\n",
      "interceptions \t 0.45 %\n",
      "positioning \t 0.45 %\n",
      "vision \t 1.47 %\n",
      "penalties \t 0.45 %\n",
      "marking \t 0.45 %\n",
      "standing_tackle \t 0.45 %\n",
      "sliding_tackle \t 1.47 %\n",
      "gk_diving \t 0.45 %\n",
      "gk_handling \t 0.45 %\n",
      "gk_kicking \t 0.45 %\n",
      "gk_positioning \t 0.45 %\n",
      "gk_reflexes \t 0.45 %\n"
     ]
    }
   ],
   "source": [
    "print(\"%age of nulls in various attribues of player:\\n\")\n",
    "for i in player.columns:\n",
    "    print(i,\"\\t\", round(sum(player[i].isnull())*100/len(player[i]), 2),\"%\")"
   ]
  },
  {
   "cell_type": "markdown",
   "metadata": {},
   "source": [
    "### Checking values in the string variables, treating nulls and creating dummies"
   ]
  },
  {
   "cell_type": "code",
   "execution_count": 416,
   "metadata": {},
   "outputs": [
    {
     "data": {
      "text/plain": [
       "<matplotlib.axes._subplots.AxesSubplot at 0x2171334b4e0>"
      ]
     },
     "execution_count": 416,
     "metadata": {},
     "output_type": "execute_result"
    },
    {
     "data": {
      "image/png": "[encoded data removed]",
      "text/plain": [
       "<Figure size 432x288 with 1 Axes>"
      ]
     },
     "metadata": {
      "needs_background": "light"
     },
     "output_type": "display_data"
    }
   ],
   "source": [
    "sns.countplot('preferred_foot', data=player, palette='magma')"
   ]
  },
  {
   "cell_type": "markdown",
   "metadata": {},
   "source": [
    "75.23% are right foot, 24.31% are left foot, 0.45% Null. Hence, mode='right' was imputed."
   ]
  },
  {
   "cell_type": "code",
   "execution_count": 417,
   "metadata": {},
   "outputs": [],
   "source": [
    "player['preferred_foot'].fillna(value=player['preferred_foot'].mode()[0], inplace=True)"
   ]
  },
  {
   "cell_type": "markdown",
   "metadata": {},
   "source": [
    "Work rates can only be high, medium, or low. But there are other entries listed in the dataset.\n",
    "We shall classify these wrong entries and Null values as a new category, \"unknown\""
   ]
  },
  {
   "cell_type": "code",
   "execution_count": 418,
   "metadata": {},
   "outputs": [],
   "source": [
    "def func(a):\n",
    "    if a not in ['high', 'low', 'medium'] or len(a)==0:\n",
    "        a='unknown'\n",
    "    return a\n",
    "player['attacking_work_rate']=player['attacking_work_rate'].apply(func)\n",
    "player['defensive_work_rate']=player['defensive_work_rate'].apply(func)"
   ]
  },
  {
   "cell_type": "markdown",
   "metadata": {},
   "source": [
    "Dropping those variables such as date and ID's that logically serve no purpose for the predictive modeling"
   ]
  },
  {
   "cell_type": "code",
   "execution_count": 419,
   "metadata": {},
   "outputs": [],
   "source": [
    "player.drop(['Unnamed: 0', 'id', 'player_fifa_api_id', 'player_api_id', 'date'], axis=1, inplace=True)"
   ]
  },
  {
   "cell_type": "markdown",
   "metadata": {},
   "source": [
    "### Treating null values in the remaining variables"
   ]
  },
  {
   "cell_type": "markdown",
   "metadata": {},
   "source": [
    "It is common practice to use the characteristics of an average sportsperson for generalizing sports trends. \n",
    "Hence for player scores for every category, Nulls have been replaced with the resp. column means"
   ]
  },
  {
   "cell_type": "code",
   "execution_count": 420,
   "metadata": {},
   "outputs": [],
   "source": [
    "for i in player.drop(['preferred_foot', 'attacking_work_rate',\n",
    "       'defensive_work_rate'], axis=1).columns:\n",
    "    player[i].fillna(value=player[i].mean(), inplace=True)"
   ]
  },
  {
   "cell_type": "code",
   "execution_count": 421,
   "metadata": {},
   "outputs": [
    {
     "data": {
      "text/plain": [
       "overall_rating         0\n",
       "potential              0\n",
       "preferred_foot         0\n",
       "attacking_work_rate    0\n",
       "defensive_work_rate    0\n",
       "crossing               0\n",
       "finishing              0\n",
       "heading_accuracy       0\n",
       "short_passing          0\n",
       "volleys                0\n",
       "dribbling              0\n",
       "curve                  0\n",
       "free_kick_accuracy     0\n",
       "long_passing           0\n",
       "ball_control           0\n",
       "acceleration           0\n",
       "sprint_speed           0\n",
       "agility                0\n",
       "reactions              0\n",
       "balance                0\n",
       "shot_power             0\n",
       "jumping                0\n",
       "stamina                0\n",
       "strength               0\n",
       "long_shots             0\n",
       "aggression             0\n",
       "interceptions          0\n",
       "positioning            0\n",
       "vision                 0\n",
       "penalties              0\n",
       "marking                0\n",
       "standing_tackle        0\n",
       "sliding_tackle         0\n",
       "gk_diving              0\n",
       "gk_handling            0\n",
       "gk_kicking             0\n",
       "gk_positioning         0\n",
       "gk_reflexes            0\n",
       "dtype: int64"
      ]
     },
     "execution_count": 421,
     "metadata": {},
     "output_type": "execute_result"
    }
   ],
   "source": [
    "player.isnull().sum()"
   ]
  },
  {
   "cell_type": "markdown",
   "metadata": {},
   "source": [
    "Creating dummies for the 3 categorical variables we treated above:"
   ]
  },
  {
   "cell_type": "code",
   "execution_count": 422,
   "metadata": {},
   "outputs": [],
   "source": [
    "player=pd.get_dummies(player, columns=['preferred_foot', 'attacking_work_rate', 'defensive_work_rate'], drop_first=True)"
   ]
  },
  {
   "cell_type": "markdown",
   "metadata": {},
   "source": [
    "### Checking correlation between variables and exploring other relationships (EDA)"
   ]
  },
  {
   "cell_type": "markdown",
   "metadata": {},
   "source": [
    "The average potential rating for a player is 7.2% higher than players' average overall rating."
   ]
  },
  {
   "cell_type": "code",
   "execution_count": 423,
   "metadata": {},
   "outputs": [
    {
     "data": {
      "text/html": [
       "<div>\n",
       "<style scoped>\n",
       "    .dataframe tbody tr th:only-of-type {\n",
       "        vertical-align: middle;\n",
       "    }\n",
       "\n",
       "    .dataframe tbody tr th {\n",
       "        vertical-align: top;\n",
       "    }\n",
       "\n",
       "    .dataframe thead th {\n",
       "        text-align: right;\n",
       "    }\n",
       "</style>\n",
       "<table border=\"1\" class=\"dataframe\">\n",
       "  <thead>\n",
       "    <tr style=\"text-align: right;\">\n",
       "      <th></th>\n",
       "      <th>overall_rating</th>\n",
       "      <th>potential</th>\n",
       "      <th>crossing</th>\n",
       "      <th>finishing</th>\n",
       "      <th>heading_accuracy</th>\n",
       "      <th>short_passing</th>\n",
       "      <th>volleys</th>\n",
       "      <th>dribbling</th>\n",
       "      <th>curve</th>\n",
       "      <th>free_kick_accuracy</th>\n",
       "      <th>...</th>\n",
       "      <th>gk_kicking</th>\n",
       "      <th>gk_positioning</th>\n",
       "      <th>gk_reflexes</th>\n",
       "      <th>preferred_foot_right</th>\n",
       "      <th>attacking_work_rate_low</th>\n",
       "      <th>attacking_work_rate_medium</th>\n",
       "      <th>attacking_work_rate_unknown</th>\n",
       "      <th>defensive_work_rate_low</th>\n",
       "      <th>defensive_work_rate_medium</th>\n",
       "      <th>defensive_work_rate_unknown</th>\n",
       "    </tr>\n",
       "  </thead>\n",
       "  <tbody>\n",
       "    <tr>\n",
       "      <th>count</th>\n",
       "      <td>183978.000000</td>\n",
       "      <td>183978.000000</td>\n",
       "      <td>183978.000000</td>\n",
       "      <td>183978.000000</td>\n",
       "      <td>183978.000000</td>\n",
       "      <td>183978.000000</td>\n",
       "      <td>183978.000000</td>\n",
       "      <td>183978.000000</td>\n",
       "      <td>183978.000000</td>\n",
       "      <td>183978.000000</td>\n",
       "      <td>...</td>\n",
       "      <td>183978.000000</td>\n",
       "      <td>183978.000000</td>\n",
       "      <td>183978.000000</td>\n",
       "      <td>183978.000000</td>\n",
       "      <td>183978.000000</td>\n",
       "      <td>183978.000000</td>\n",
       "      <td>183978.000000</td>\n",
       "      <td>183978.000000</td>\n",
       "      <td>183978.000000</td>\n",
       "      <td>183978.000000</td>\n",
       "    </tr>\n",
       "    <tr>\n",
       "      <th>mean</th>\n",
       "      <td>68.600015</td>\n",
       "      <td>73.460353</td>\n",
       "      <td>55.086883</td>\n",
       "      <td>49.921078</td>\n",
       "      <td>57.266023</td>\n",
       "      <td>62.429672</td>\n",
       "      <td>49.468436</td>\n",
       "      <td>59.175154</td>\n",
       "      <td>52.965675</td>\n",
       "      <td>49.380950</td>\n",
       "      <td>...</td>\n",
       "      <td>20.998362</td>\n",
       "      <td>16.132154</td>\n",
       "      <td>16.441439</td>\n",
       "      <td>0.756857</td>\n",
       "      <td>0.046576</td>\n",
       "      <td>0.679810</td>\n",
       "      <td>0.040853</td>\n",
       "      <td>0.100186</td>\n",
       "      <td>0.711205</td>\n",
       "      <td>0.041630</td>\n",
       "    </tr>\n",
       "    <tr>\n",
       "      <th>std</th>\n",
       "      <td>7.025124</td>\n",
       "      <td>6.577276</td>\n",
       "      <td>17.202916</td>\n",
       "      <td>18.995399</td>\n",
       "      <td>16.451399</td>\n",
       "      <td>14.161782</td>\n",
       "      <td>18.121509</td>\n",
       "      <td>17.704326</td>\n",
       "      <td>18.120685</td>\n",
       "      <td>17.791186</td>\n",
       "      <td>...</td>\n",
       "      <td>21.404183</td>\n",
       "      <td>16.062556</td>\n",
       "      <td>17.159036</td>\n",
       "      <td>0.428982</td>\n",
       "      <td>0.210730</td>\n",
       "      <td>0.466551</td>\n",
       "      <td>0.197949</td>\n",
       "      <td>0.300249</td>\n",
       "      <td>0.453204</td>\n",
       "      <td>0.199743</td>\n",
       "    </tr>\n",
       "    <tr>\n",
       "      <th>min</th>\n",
       "      <td>33.000000</td>\n",
       "      <td>39.000000</td>\n",
       "      <td>1.000000</td>\n",
       "      <td>1.000000</td>\n",
       "      <td>1.000000</td>\n",
       "      <td>3.000000</td>\n",
       "      <td>1.000000</td>\n",
       "      <td>1.000000</td>\n",
       "      <td>2.000000</td>\n",
       "      <td>1.000000</td>\n",
       "      <td>...</td>\n",
       "      <td>1.000000</td>\n",
       "      <td>1.000000</td>\n",
       "      <td>1.000000</td>\n",
       "      <td>0.000000</td>\n",
       "      <td>0.000000</td>\n",
       "      <td>0.000000</td>\n",
       "      <td>0.000000</td>\n",
       "      <td>0.000000</td>\n",
       "      <td>0.000000</td>\n",
       "      <td>0.000000</td>\n",
       "    </tr>\n",
       "    <tr>\n",
       "      <th>25%</th>\n",
       "      <td>64.000000</td>\n",
       "      <td>69.000000</td>\n",
       "      <td>45.000000</td>\n",
       "      <td>34.000000</td>\n",
       "      <td>49.000000</td>\n",
       "      <td>57.000000</td>\n",
       "      <td>36.000000</td>\n",
       "      <td>52.000000</td>\n",
       "      <td>41.000000</td>\n",
       "      <td>36.000000</td>\n",
       "      <td>...</td>\n",
       "      <td>8.000000</td>\n",
       "      <td>8.000000</td>\n",
       "      <td>8.000000</td>\n",
       "      <td>1.000000</td>\n",
       "      <td>0.000000</td>\n",
       "      <td>0.000000</td>\n",
       "      <td>0.000000</td>\n",
       "      <td>0.000000</td>\n",
       "      <td>0.000000</td>\n",
       "      <td>0.000000</td>\n",
       "    </tr>\n",
       "    <tr>\n",
       "      <th>50%</th>\n",
       "      <td>69.000000</td>\n",
       "      <td>74.000000</td>\n",
       "      <td>59.000000</td>\n",
       "      <td>53.000000</td>\n",
       "      <td>60.000000</td>\n",
       "      <td>65.000000</td>\n",
       "      <td>52.000000</td>\n",
       "      <td>64.000000</td>\n",
       "      <td>55.000000</td>\n",
       "      <td>50.000000</td>\n",
       "      <td>...</td>\n",
       "      <td>12.000000</td>\n",
       "      <td>11.000000</td>\n",
       "      <td>11.000000</td>\n",
       "      <td>1.000000</td>\n",
       "      <td>0.000000</td>\n",
       "      <td>1.000000</td>\n",
       "      <td>0.000000</td>\n",
       "      <td>0.000000</td>\n",
       "      <td>1.000000</td>\n",
       "      <td>0.000000</td>\n",
       "    </tr>\n",
       "    <tr>\n",
       "      <th>75%</th>\n",
       "      <td>73.000000</td>\n",
       "      <td>78.000000</td>\n",
       "      <td>68.000000</td>\n",
       "      <td>65.000000</td>\n",
       "      <td>68.000000</td>\n",
       "      <td>72.000000</td>\n",
       "      <td>64.000000</td>\n",
       "      <td>72.000000</td>\n",
       "      <td>67.000000</td>\n",
       "      <td>63.000000</td>\n",
       "      <td>...</td>\n",
       "      <td>15.000000</td>\n",
       "      <td>15.000000</td>\n",
       "      <td>15.000000</td>\n",
       "      <td>1.000000</td>\n",
       "      <td>0.000000</td>\n",
       "      <td>1.000000</td>\n",
       "      <td>0.000000</td>\n",
       "      <td>0.000000</td>\n",
       "      <td>1.000000</td>\n",
       "      <td>0.000000</td>\n",
       "    </tr>\n",
       "    <tr>\n",
       "      <th>max</th>\n",
       "      <td>94.000000</td>\n",
       "      <td>97.000000</td>\n",
       "      <td>95.000000</td>\n",
       "      <td>97.000000</td>\n",
       "      <td>98.000000</td>\n",
       "      <td>97.000000</td>\n",
       "      <td>93.000000</td>\n",
       "      <td>97.000000</td>\n",
       "      <td>94.000000</td>\n",
       "      <td>97.000000</td>\n",
       "      <td>...</td>\n",
       "      <td>97.000000</td>\n",
       "      <td>96.000000</td>\n",
       "      <td>96.000000</td>\n",
       "      <td>1.000000</td>\n",
       "      <td>1.000000</td>\n",
       "      <td>1.000000</td>\n",
       "      <td>1.000000</td>\n",
       "      <td>1.000000</td>\n",
       "      <td>1.000000</td>\n",
       "      <td>1.000000</td>\n",
       "    </tr>\n",
       "  </tbody>\n",
       "</table>\n",
       "<p>8 rows × 42 columns</p>\n",
       "</div>"
      ],
      "text/plain": [
       "       overall_rating      potential       crossing      finishing  \\\n",
       "count   183978.000000  183978.000000  183978.000000  183978.000000   \n",
       "mean        68.600015      73.460353      55.086883      49.921078   \n",
       "std          7.025124       6.577276      17.202916      18.995399   \n",
       "min         33.000000      39.000000       1.000000       1.000000   \n",
       "25%         64.000000      69.000000      45.000000      34.000000   \n",
       "50%         69.000000      74.000000      59.000000      53.000000   \n",
       "75%         73.000000      78.000000      68.000000      65.000000   \n",
       "max         94.000000      97.000000      95.000000      97.000000   \n",
       "\n",
       "       heading_accuracy  short_passing        volleys      dribbling  \\\n",
       "count     183978.000000  183978.000000  183978.000000  183978.000000   \n",
       "mean          57.266023      62.429672      49.468436      59.175154   \n",
       "std           16.451399      14.161782      18.121509      17.704326   \n",
       "min            1.000000       3.000000       1.000000       1.000000   \n",
       "25%           49.000000      57.000000      36.000000      52.000000   \n",
       "50%           60.000000      65.000000      52.000000      64.000000   \n",
       "75%           68.000000      72.000000      64.000000      72.000000   \n",
       "max           98.000000      97.000000      93.000000      97.000000   \n",
       "\n",
       "               curve  free_kick_accuracy             ...               \\\n",
       "count  183978.000000       183978.000000             ...                \n",
       "mean       52.965675           49.380950             ...                \n",
       "std        18.120685           17.791186             ...                \n",
       "min         2.000000            1.000000             ...                \n",
       "25%        41.000000           36.000000             ...                \n",
       "50%        55.000000           50.000000             ...                \n",
       "75%        67.000000           63.000000             ...                \n",
       "max        94.000000           97.000000             ...                \n",
       "\n",
       "          gk_kicking  gk_positioning    gk_reflexes  preferred_foot_right  \\\n",
       "count  183978.000000   183978.000000  183978.000000         183978.000000   \n",
       "mean       20.998362       16.132154      16.441439              0.756857   \n",
       "std        21.404183       16.062556      17.159036              0.428982   \n",
       "min         1.000000        1.000000       1.000000              0.000000   \n",
       "25%         8.000000        8.000000       8.000000              1.000000   \n",
       "50%        12.000000       11.000000      11.000000              1.000000   \n",
       "75%        15.000000       15.000000      15.000000              1.000000   \n",
       "max        97.000000       96.000000      96.000000              1.000000   \n",
       "\n",
       "       attacking_work_rate_low  attacking_work_rate_medium  \\\n",
       "count            183978.000000               183978.000000   \n",
       "mean                  0.046576                    0.679810   \n",
       "std                   0.210730                    0.466551   \n",
       "min                   0.000000                    0.000000   \n",
       "25%                   0.000000                    0.000000   \n",
       "50%                   0.000000                    1.000000   \n",
       "75%                   0.000000                    1.000000   \n",
       "max                   1.000000                    1.000000   \n",
       "\n",
       "       attacking_work_rate_unknown  defensive_work_rate_low  \\\n",
       "count                183978.000000            183978.000000   \n",
       "mean                      0.040853                 0.100186   \n",
       "std                       0.197949                 0.300249   \n",
       "min                       0.000000                 0.000000   \n",
       "25%                       0.000000                 0.000000   \n",
       "50%                       0.000000                 0.000000   \n",
       "75%                       0.000000                 0.000000   \n",
       "max                       1.000000                 1.000000   \n",
       "\n",
       "       defensive_work_rate_medium  defensive_work_rate_unknown  \n",
       "count               183978.000000                183978.000000  \n",
       "mean                     0.711205                     0.041630  \n",
       "std                      0.453204                     0.199743  \n",
       "min                      0.000000                     0.000000  \n",
       "25%                      0.000000                     0.000000  \n",
       "50%                      1.000000                     0.000000  \n",
       "75%                      1.000000                     0.000000  \n",
       "max                      1.000000                     1.000000  \n",
       "\n",
       "[8 rows x 42 columns]"
      ]
     },
     "execution_count": 423,
     "metadata": {},
     "output_type": "execute_result"
    }
   ],
   "source": [
    "player.describe()"
   ]
  },
  {
   "cell_type": "markdown",
   "metadata": {},
   "source": [
    "Checking the distribution of variables: 'potential' and 'overall_rating': Notice the shift in the mean."
   ]
  },
  {
   "cell_type": "code",
   "execution_count": 331,
   "metadata": {},
   "outputs": [
    {
     "data": {
      "text/plain": [
       "<matplotlib.axes._subplots.AxesSubplot at 0x21705b760f0>"
      ]
     },
     "execution_count": 331,
     "metadata": {},
     "output_type": "execute_result"
    },
    {
     "data": {
      "image/png": "[encoded data removed]",
      "text/plain": [
       "<Figure size 1080x360 with 2 Axes>"
      ]
     },
     "metadata": {
      "needs_background": "light"
     },
     "output_type": "display_data"
    }
   ],
   "source": [
    "plt.figure(figsize=(15,5))\n",
    "plt.subplot(1,2,1)\n",
    "sns.distplot(player['potential'], bins=30, color='red')\n",
    "plt.subplot(1,2,2)\n",
    "sns.distplot(player['overall_rating'], bins=30, color='blue')"
   ]
  },
  {
   "cell_type": "markdown",
   "metadata": {},
   "source": [
    "Relationship between overall_rating and potential rating: Footing preference does not seem to contribute to the ratings in a very obvious way."
   ]
  },
  {
   "cell_type": "code",
   "execution_count": 338,
   "metadata": {},
   "outputs": [
    {
     "data": {
      "text/html": [
       "<div>\n",
       "<style scoped>\n",
       "    .dataframe tbody tr th:only-of-type {\n",
       "        vertical-align: middle;\n",
       "    }\n",
       "\n",
       "    .dataframe tbody tr th {\n",
       "        vertical-align: top;\n",
       "    }\n",
       "\n",
       "    .dataframe thead th {\n",
       "        text-align: right;\n",
       "    }\n",
       "</style>\n",
       "<table border=\"1\" class=\"dataframe\">\n",
       "  <thead>\n",
       "    <tr style=\"text-align: right;\">\n",
       "      <th></th>\n",
       "      <th>overall_rating</th>\n",
       "      <th>potential</th>\n",
       "    </tr>\n",
       "  </thead>\n",
       "  <tbody>\n",
       "    <tr>\n",
       "      <th>overall_rating</th>\n",
       "      <td>1.000000</td>\n",
       "      <td>0.766757</td>\n",
       "    </tr>\n",
       "    <tr>\n",
       "      <th>potential</th>\n",
       "      <td>0.766757</td>\n",
       "      <td>1.000000</td>\n",
       "    </tr>\n",
       "  </tbody>\n",
       "</table>\n",
       "</div>"
      ],
      "text/plain": [
       "                overall_rating  potential\n",
       "overall_rating        1.000000   0.766757\n",
       "potential             0.766757   1.000000"
      ]
     },
     "execution_count": 338,
     "metadata": {},
     "output_type": "execute_result"
    },
    {
     "data": {
      "image/png": "[encoded data removed]",
      "text/plain": [
       "<Figure size 468.125x360 with 1 Axes>"
      ]
     },
     "metadata": {
      "needs_background": "light"
     },
     "output_type": "display_data"
    }
   ],
   "source": [
    "sns.lmplot('overall_rating', 'potential', data=player, hue='preferred_foot_right')\n",
    "player[['overall_rating', 'potential']].corr()"
   ]
  },
  {
   "cell_type": "markdown",
   "metadata": {},
   "source": [
    "### Correlation check:"
   ]
  },
  {
   "cell_type": "code",
   "execution_count": 339,
   "metadata": {},
   "outputs": [
    {
     "data": {
      "text/plain": [
       "<matplotlib.axes._subplots.AxesSubplot at 0x2174b275f98>"
      ]
     },
     "execution_count": 339,
     "metadata": {},
     "output_type": "execute_result"
    },
    {
     "data": {
      "image/png": "[encoded data removed]",
      "text/plain": [
       "<Figure size 1152x1152 with 2 Axes>"
      ]
     },
     "metadata": {
      "needs_background": "light"
     },
     "output_type": "display_data"
    }
   ],
   "source": [
    "plt.figure(figsize=(16,16))\n",
    "sns.heatmap(player.corr(), cmap='viridis')"
   ]
  },
  {
   "cell_type": "markdown",
   "metadata": {},
   "source": [
    "We see that there is high degree of correlation between certain attributes, for eg. positioning and ball control.\n",
    "This makes sense as those with better ball control score will usually be assigned a better positioning to play from.\n",
    "Another good eg. is the high correlation between penalties scoring and shot_power scoring.\n",
    "A high correlation can be noticed amongst various goalkeeping skills' scoring.\n",
    "\n",
    "So far, the data has been behaving as expected. Certain skills do go hand-in-hand, so it is natural to notice a correlation."
   ]
  },
  {
   "cell_type": "markdown",
   "metadata": {},
   "source": [
    "# Predictive Modeling"
   ]
  },
  {
   "cell_type": "code",
   "execution_count": 424,
   "metadata": {},
   "outputs": [],
   "source": [
    "from sklearn.ensemble import IsolationForest, RandomForestRegressor\n",
    "from sklearn.model_selection import train_test_split\n",
    "from sklearn.linear_model import LinearRegression\n",
    "from sklearn import metrics"
   ]
  },
  {
   "cell_type": "markdown",
   "metadata": {},
   "source": [
    "Checking if overall_rating and potential are extremely correlated or if there's a possibility of simultaneous causality bias: "
   ]
  },
  {
   "cell_type": "code",
   "execution_count": 425,
   "metadata": {},
   "outputs": [
    {
     "name": "stdout",
     "output_type": "stream",
     "text": [
      "[24.21402337]\n",
      "[[0.71787637]]\n"
     ]
    },
    {
     "data": {
      "text/plain": [
       "0.5879158151698886"
      ]
     },
     "execution_count": 425,
     "metadata": {},
     "output_type": "execute_result"
    }
   ],
   "source": [
    "a=player[['overall_rating']]\n",
    "b=player[['potential']]\n",
    "lm=LinearRegression()\n",
    "lm.fit(a,b)\n",
    "print(lm.intercept_)\n",
    "print(lm.coef_)\n",
    "lm.score(a,b)"
   ]
  },
  {
   "cell_type": "markdown",
   "metadata": {},
   "source": [
    "Extreme correlation not observed; Simultaneous causality bias will not be an issue."
   ]
  },
  {
   "cell_type": "markdown",
   "metadata": {},
   "source": [
    "Creating Train, test sets:"
   ]
  },
  {
   "cell_type": "code",
   "execution_count": 448,
   "metadata": {},
   "outputs": [],
   "source": [
    "x=player.drop('overall_rating', axis=1)\n",
    "y=player['overall_rating']\n",
    "x_train, x_test, y_train, y_test = train_test_split(x, y, test_size=0.3, random_state=101)"
   ]
  },
  {
   "cell_type": "markdown",
   "metadata": {},
   "source": [
    "The following is the code to detect outliers using the IsolationForest Algorithm. The steps thereafter will remove rows containing outliers from the data. "
   ]
  },
  {
   "cell_type": "code",
   "execution_count": 352,
   "metadata": {},
   "outputs": [],
   "source": [
    "# iso=IsolationForest(contamination=0.1)\n",
    "# yhat=iso.fit_predict(x_train)\n",
    "# x_train['yhat']=yhat\n",
    "# x_del=x_train[x_train['yhat']!=1].index\n",
    "# x_train=x_train[x_train['yhat']==1]\n",
    "# for i in x_del:\n",
    "#     y_train.drop(i, inplace=True)\n",
    "# x_train.drop('yhat', axis=1, inplace=True)"
   ]
  },
  {
   "cell_type": "markdown",
   "metadata": {},
   "source": [
    "However, at this stage, I have decided not to remove outliers. The attributes being scores, can range from 0 to 100. But no player has been given a score of excatly 0 or 100. Based on the distribution of observations- min, max and IQR- the algorithm will pick out outliers. However, in the context of this dataset, these are not really outliers, but 'high' or 'low' scores. We can assume that someone who has an exceptionally high score for a performance aspect is exceptionally good in that aspect, and if the score is really low, then that player probably does very poorly in that aspect. \n",
    "\n",
    "Shown below are few rows where the algorithm detected outliers. It can be seen that in the context of scores ranging from 0 to 100, these are not liable to be modified or removed.\n",
    "\n",
    "** DO NOT RUN THE BELOW CELL"
   ]
  },
  {
   "cell_type": "code",
   "execution_count": 351,
   "metadata": {},
   "outputs": [
    {
     "data": {
      "text/html": [
       "<div>\n",
       "<style scoped>\n",
       "    .dataframe tbody tr th:only-of-type {\n",
       "        vertical-align: middle;\n",
       "    }\n",
       "\n",
       "    .dataframe tbody tr th {\n",
       "        vertical-align: top;\n",
       "    }\n",
       "\n",
       "    .dataframe thead th {\n",
       "        text-align: right;\n",
       "    }\n",
       "</style>\n",
       "<table border=\"1\" class=\"dataframe\">\n",
       "  <thead>\n",
       "    <tr style=\"text-align: right;\">\n",
       "      <th></th>\n",
       "      <th>potential</th>\n",
       "      <th>crossing</th>\n",
       "      <th>finishing</th>\n",
       "      <th>heading_accuracy</th>\n",
       "      <th>short_passing</th>\n",
       "      <th>volleys</th>\n",
       "      <th>dribbling</th>\n",
       "      <th>curve</th>\n",
       "      <th>free_kick_accuracy</th>\n",
       "      <th>long_passing</th>\n",
       "      <th>...</th>\n",
       "      <th>gk_positioning</th>\n",
       "      <th>gk_reflexes</th>\n",
       "      <th>preferred_foot_right</th>\n",
       "      <th>attacking_work_rate_low</th>\n",
       "      <th>attacking_work_rate_medium</th>\n",
       "      <th>attacking_work_rate_unknown</th>\n",
       "      <th>defensive_work_rate_low</th>\n",
       "      <th>defensive_work_rate_medium</th>\n",
       "      <th>defensive_work_rate_unknown</th>\n",
       "      <th>yhat</th>\n",
       "    </tr>\n",
       "  </thead>\n",
       "  <tbody>\n",
       "    <tr>\n",
       "      <th>116493</th>\n",
       "      <td>83.0</td>\n",
       "      <td>39.0</td>\n",
       "      <td>35.0</td>\n",
       "      <td>86.0</td>\n",
       "      <td>64.0</td>\n",
       "      <td>43.0</td>\n",
       "      <td>46.0</td>\n",
       "      <td>33.0</td>\n",
       "      <td>27.0</td>\n",
       "      <td>62.0</td>\n",
       "      <td>...</td>\n",
       "      <td>6.0</td>\n",
       "      <td>11.0</td>\n",
       "      <td>1</td>\n",
       "      <td>1</td>\n",
       "      <td>0</td>\n",
       "      <td>0</td>\n",
       "      <td>0</td>\n",
       "      <td>0</td>\n",
       "      <td>0</td>\n",
       "      <td>-1</td>\n",
       "    </tr>\n",
       "    <tr>\n",
       "      <th>56800</th>\n",
       "      <td>67.0</td>\n",
       "      <td>25.0</td>\n",
       "      <td>25.0</td>\n",
       "      <td>25.0</td>\n",
       "      <td>21.0</td>\n",
       "      <td>25.0</td>\n",
       "      <td>25.0</td>\n",
       "      <td>25.0</td>\n",
       "      <td>25.0</td>\n",
       "      <td>26.0</td>\n",
       "      <td>...</td>\n",
       "      <td>67.0</td>\n",
       "      <td>64.0</td>\n",
       "      <td>1</td>\n",
       "      <td>0</td>\n",
       "      <td>1</td>\n",
       "      <td>0</td>\n",
       "      <td>0</td>\n",
       "      <td>1</td>\n",
       "      <td>0</td>\n",
       "      <td>-1</td>\n",
       "    </tr>\n",
       "    <tr>\n",
       "      <th>35539</th>\n",
       "      <td>76.0</td>\n",
       "      <td>11.0</td>\n",
       "      <td>13.0</td>\n",
       "      <td>13.0</td>\n",
       "      <td>22.0</td>\n",
       "      <td>12.0</td>\n",
       "      <td>14.0</td>\n",
       "      <td>10.0</td>\n",
       "      <td>14.0</td>\n",
       "      <td>21.0</td>\n",
       "      <td>...</td>\n",
       "      <td>68.0</td>\n",
       "      <td>76.0</td>\n",
       "      <td>1</td>\n",
       "      <td>0</td>\n",
       "      <td>1</td>\n",
       "      <td>0</td>\n",
       "      <td>0</td>\n",
       "      <td>1</td>\n",
       "      <td>0</td>\n",
       "      <td>-1</td>\n",
       "    </tr>\n",
       "    <tr>\n",
       "      <th>711</th>\n",
       "      <td>75.0</td>\n",
       "      <td>6.0</td>\n",
       "      <td>10.0</td>\n",
       "      <td>12.0</td>\n",
       "      <td>39.0</td>\n",
       "      <td>36.0</td>\n",
       "      <td>9.0</td>\n",
       "      <td>14.0</td>\n",
       "      <td>9.0</td>\n",
       "      <td>24.0</td>\n",
       "      <td>...</td>\n",
       "      <td>39.0</td>\n",
       "      <td>74.0</td>\n",
       "      <td>1</td>\n",
       "      <td>0</td>\n",
       "      <td>1</td>\n",
       "      <td>0</td>\n",
       "      <td>0</td>\n",
       "      <td>1</td>\n",
       "      <td>0</td>\n",
       "      <td>-1</td>\n",
       "    </tr>\n",
       "    <tr>\n",
       "      <th>161241</th>\n",
       "      <td>72.0</td>\n",
       "      <td>17.0</td>\n",
       "      <td>11.0</td>\n",
       "      <td>16.0</td>\n",
       "      <td>21.0</td>\n",
       "      <td>18.0</td>\n",
       "      <td>18.0</td>\n",
       "      <td>10.0</td>\n",
       "      <td>12.0</td>\n",
       "      <td>33.0</td>\n",
       "      <td>...</td>\n",
       "      <td>61.0</td>\n",
       "      <td>66.0</td>\n",
       "      <td>1</td>\n",
       "      <td>0</td>\n",
       "      <td>1</td>\n",
       "      <td>0</td>\n",
       "      <td>0</td>\n",
       "      <td>1</td>\n",
       "      <td>0</td>\n",
       "      <td>-1</td>\n",
       "    </tr>\n",
       "  </tbody>\n",
       "</table>\n",
       "<p>5 rows × 42 columns</p>\n",
       "</div>"
      ],
      "text/plain": [
       "        potential  crossing  finishing  heading_accuracy  short_passing  \\\n",
       "116493       83.0      39.0       35.0              86.0           64.0   \n",
       "56800        67.0      25.0       25.0              25.0           21.0   \n",
       "35539        76.0      11.0       13.0              13.0           22.0   \n",
       "711          75.0       6.0       10.0              12.0           39.0   \n",
       "161241       72.0      17.0       11.0              16.0           21.0   \n",
       "\n",
       "        volleys  dribbling  curve  free_kick_accuracy  long_passing  ...   \\\n",
       "116493     43.0       46.0   33.0                27.0          62.0  ...    \n",
       "56800      25.0       25.0   25.0                25.0          26.0  ...    \n",
       "35539      12.0       14.0   10.0                14.0          21.0  ...    \n",
       "711        36.0        9.0   14.0                 9.0          24.0  ...    \n",
       "161241     18.0       18.0   10.0                12.0          33.0  ...    \n",
       "\n",
       "        gk_positioning  gk_reflexes  preferred_foot_right  \\\n",
       "116493             6.0         11.0                     1   \n",
       "56800             67.0         64.0                     1   \n",
       "35539             68.0         76.0                     1   \n",
       "711               39.0         74.0                     1   \n",
       "161241            61.0         66.0                     1   \n",
       "\n",
       "        attacking_work_rate_low  attacking_work_rate_medium  \\\n",
       "116493                        1                           0   \n",
       "56800                         0                           1   \n",
       "35539                         0                           1   \n",
       "711                           0                           1   \n",
       "161241                        0                           1   \n",
       "\n",
       "        attacking_work_rate_unknown  defensive_work_rate_low  \\\n",
       "116493                            0                        0   \n",
       "56800                             0                        0   \n",
       "35539                             0                        0   \n",
       "711                               0                        0   \n",
       "161241                            0                        0   \n",
       "\n",
       "        defensive_work_rate_medium  defensive_work_rate_unknown  yhat  \n",
       "116493                           0                            0    -1  \n",
       "56800                            1                            0    -1  \n",
       "35539                            1                            0    -1  \n",
       "711                              1                            0    -1  \n",
       "161241                           1                            0    -1  \n",
       "\n",
       "[5 rows x 42 columns]"
      ]
     },
     "execution_count": 351,
     "metadata": {},
     "output_type": "execute_result"
    }
   ],
   "source": [
    "# x_train[x_train['yhat']!=1].head()"
   ]
  },
  {
   "cell_type": "markdown",
   "metadata": {},
   "source": [
    "## Linear Regression "
   ]
  },
  {
   "cell_type": "code",
   "execution_count": 427,
   "metadata": {},
   "outputs": [
    {
     "name": "stdout",
     "output_type": "stream",
     "text": [
      "intercept:  -3.4118026107874613 \n",
      " R^2:  0.8434525380882465\n"
     ]
    },
    {
     "data": {
      "text/html": [
       "<div>\n",
       "<style scoped>\n",
       "    .dataframe tbody tr th:only-of-type {\n",
       "        vertical-align: middle;\n",
       "    }\n",
       "\n",
       "    .dataframe tbody tr th {\n",
       "        vertical-align: top;\n",
       "    }\n",
       "\n",
       "    .dataframe thead th {\n",
       "        text-align: right;\n",
       "    }\n",
       "</style>\n",
       "<table border=\"1\" class=\"dataframe\">\n",
       "  <thead>\n",
       "    <tr style=\"text-align: right;\">\n",
       "      <th></th>\n",
       "      <th>Coefficients</th>\n",
       "    </tr>\n",
       "  </thead>\n",
       "  <tbody>\n",
       "    <tr>\n",
       "      <th>potential</th>\n",
       "      <td>0.378894</td>\n",
       "    </tr>\n",
       "    <tr>\n",
       "      <th>crossing</th>\n",
       "      <td>0.022447</td>\n",
       "    </tr>\n",
       "    <tr>\n",
       "      <th>finishing</th>\n",
       "      <td>0.013127</td>\n",
       "    </tr>\n",
       "    <tr>\n",
       "      <th>heading_accuracy</th>\n",
       "      <td>0.068485</td>\n",
       "    </tr>\n",
       "    <tr>\n",
       "      <th>short_passing</th>\n",
       "      <td>0.050913</td>\n",
       "    </tr>\n",
       "    <tr>\n",
       "      <th>volleys</th>\n",
       "      <td>0.000984</td>\n",
       "    </tr>\n",
       "    <tr>\n",
       "      <th>dribbling</th>\n",
       "      <td>-0.010418</td>\n",
       "    </tr>\n",
       "    <tr>\n",
       "      <th>curve</th>\n",
       "      <td>0.011094</td>\n",
       "    </tr>\n",
       "    <tr>\n",
       "      <th>free_kick_accuracy</th>\n",
       "      <td>0.014714</td>\n",
       "    </tr>\n",
       "    <tr>\n",
       "      <th>long_passing</th>\n",
       "      <td>0.005876</td>\n",
       "    </tr>\n",
       "    <tr>\n",
       "      <th>ball_control</th>\n",
       "      <td>0.134145</td>\n",
       "    </tr>\n",
       "    <tr>\n",
       "      <th>acceleration</th>\n",
       "      <td>0.005292</td>\n",
       "    </tr>\n",
       "    <tr>\n",
       "      <th>sprint_speed</th>\n",
       "      <td>0.011463</td>\n",
       "    </tr>\n",
       "    <tr>\n",
       "      <th>agility</th>\n",
       "      <td>-0.008214</td>\n",
       "    </tr>\n",
       "    <tr>\n",
       "      <th>reactions</th>\n",
       "      <td>0.206032</td>\n",
       "    </tr>\n",
       "    <tr>\n",
       "      <th>balance</th>\n",
       "      <td>0.006675</td>\n",
       "    </tr>\n",
       "    <tr>\n",
       "      <th>shot_power</th>\n",
       "      <td>0.015194</td>\n",
       "    </tr>\n",
       "    <tr>\n",
       "      <th>jumping</th>\n",
       "      <td>0.016174</td>\n",
       "    </tr>\n",
       "    <tr>\n",
       "      <th>stamina</th>\n",
       "      <td>-0.003051</td>\n",
       "    </tr>\n",
       "    <tr>\n",
       "      <th>strength</th>\n",
       "      <td>0.059683</td>\n",
       "    </tr>\n",
       "    <tr>\n",
       "      <th>long_shots</th>\n",
       "      <td>-0.012153</td>\n",
       "    </tr>\n",
       "    <tr>\n",
       "      <th>aggression</th>\n",
       "      <td>0.019897</td>\n",
       "    </tr>\n",
       "    <tr>\n",
       "      <th>interceptions</th>\n",
       "      <td>0.012699</td>\n",
       "    </tr>\n",
       "    <tr>\n",
       "      <th>positioning</th>\n",
       "      <td>-0.008396</td>\n",
       "    </tr>\n",
       "    <tr>\n",
       "      <th>vision</th>\n",
       "      <td>-0.002402</td>\n",
       "    </tr>\n",
       "    <tr>\n",
       "      <th>penalties</th>\n",
       "      <td>0.012288</td>\n",
       "    </tr>\n",
       "    <tr>\n",
       "      <th>marking</th>\n",
       "      <td>0.033679</td>\n",
       "    </tr>\n",
       "    <tr>\n",
       "      <th>standing_tackle</th>\n",
       "      <td>0.003338</td>\n",
       "    </tr>\n",
       "    <tr>\n",
       "      <th>sliding_tackle</th>\n",
       "      <td>-0.028634</td>\n",
       "    </tr>\n",
       "    <tr>\n",
       "      <th>gk_diving</th>\n",
       "      <td>0.168018</td>\n",
       "    </tr>\n",
       "    <tr>\n",
       "      <th>gk_handling</th>\n",
       "      <td>0.032608</td>\n",
       "    </tr>\n",
       "    <tr>\n",
       "      <th>gk_kicking</th>\n",
       "      <td>-0.033176</td>\n",
       "    </tr>\n",
       "    <tr>\n",
       "      <th>gk_positioning</th>\n",
       "      <td>0.057298</td>\n",
       "    </tr>\n",
       "    <tr>\n",
       "      <th>gk_reflexes</th>\n",
       "      <td>0.023755</td>\n",
       "    </tr>\n",
       "    <tr>\n",
       "      <th>preferred_foot_right</th>\n",
       "      <td>-0.009928</td>\n",
       "    </tr>\n",
       "    <tr>\n",
       "      <th>attacking_work_rate_low</th>\n",
       "      <td>1.268251</td>\n",
       "    </tr>\n",
       "    <tr>\n",
       "      <th>attacking_work_rate_medium</th>\n",
       "      <td>-0.089595</td>\n",
       "    </tr>\n",
       "    <tr>\n",
       "      <th>attacking_work_rate_unknown</th>\n",
       "      <td>-0.415544</td>\n",
       "    </tr>\n",
       "    <tr>\n",
       "      <th>defensive_work_rate_low</th>\n",
       "      <td>0.429064</td>\n",
       "    </tr>\n",
       "    <tr>\n",
       "      <th>defensive_work_rate_medium</th>\n",
       "      <td>-0.255995</td>\n",
       "    </tr>\n",
       "    <tr>\n",
       "      <th>defensive_work_rate_unknown</th>\n",
       "      <td>0.020581</td>\n",
       "    </tr>\n",
       "  </tbody>\n",
       "</table>\n",
       "</div>"
      ],
      "text/plain": [
       "                             Coefficients\n",
       "potential                        0.378894\n",
       "crossing                         0.022447\n",
       "finishing                        0.013127\n",
       "heading_accuracy                 0.068485\n",
       "short_passing                    0.050913\n",
       "volleys                          0.000984\n",
       "dribbling                       -0.010418\n",
       "curve                            0.011094\n",
       "free_kick_accuracy               0.014714\n",
       "long_passing                     0.005876\n",
       "ball_control                     0.134145\n",
       "acceleration                     0.005292\n",
       "sprint_speed                     0.011463\n",
       "agility                         -0.008214\n",
       "reactions                        0.206032\n",
       "balance                          0.006675\n",
       "shot_power                       0.015194\n",
       "jumping                          0.016174\n",
       "stamina                         -0.003051\n",
       "strength                         0.059683\n",
       "long_shots                      -0.012153\n",
       "aggression                       0.019897\n",
       "interceptions                    0.012699\n",
       "positioning                     -0.008396\n",
       "vision                          -0.002402\n",
       "penalties                        0.012288\n",
       "marking                          0.033679\n",
       "standing_tackle                  0.003338\n",
       "sliding_tackle                  -0.028634\n",
       "gk_diving                        0.168018\n",
       "gk_handling                      0.032608\n",
       "gk_kicking                      -0.033176\n",
       "gk_positioning                   0.057298\n",
       "gk_reflexes                      0.023755\n",
       "preferred_foot_right            -0.009928\n",
       "attacking_work_rate_low          1.268251\n",
       "attacking_work_rate_medium      -0.089595\n",
       "attacking_work_rate_unknown     -0.415544\n",
       "defensive_work_rate_low          0.429064\n",
       "defensive_work_rate_medium      -0.255995\n",
       "defensive_work_rate_unknown      0.020581"
      ]
     },
     "execution_count": 427,
     "metadata": {},
     "output_type": "execute_result"
    }
   ],
   "source": [
    "lm=LinearRegression()\n",
    "lm.fit(x_train, y_train)\n",
    "print(\"intercept: \", lm.intercept_, \"\\n\", \"R^2: \", lm.score(x_train, y_train))\n",
    "coefs=pd.DataFrame(lm.coef_, x_train.columns, columns=['Coefficients'])\n",
    "coefs"
   ]
  },
  {
   "cell_type": "markdown",
   "metadata": {},
   "source": [
    "### Interpretation:\n",
    "\n",
    "The R^2 value is good, but given that almost all of the attributes denote a quality to be possessed by the player, I would not expect any of them to have an inverse relationship with overall_rating. However in this case, some do. Hence, the model needs further inspection.\n",
    "\n",
    "Eg: 1 point increase in the heading accuracy score, can increase overall rating score by 0.0684 points. 1 point increase in the agility score, can decrease overall rating score by 0.0082 points (An example for unexpected result)\n",
    "\n",
    "Code below is for predictions:"
   ]
  },
  {
   "cell_type": "code",
   "execution_count": 428,
   "metadata": {},
   "outputs": [
    {
     "name": "stdout",
     "output_type": "stream",
     "text": [
      "        overall_rating_predicted\n",
      "89795                  76.239334\n",
      "145987                 68.973874\n",
      "81345                  64.533521\n",
      "40399                  74.239942\n",
      "143301                 72.194142\n",
      "        overall_rating\n",
      "89795             81.0\n",
      "145987            72.0\n",
      "81345             65.0\n",
      "40399             76.0\n",
      "143301            76.0\n"
     ]
    }
   ],
   "source": [
    "pred=lm.predict(x_test)\n",
    "print(pd.DataFrame(pred, y_test.index, columns=['overall_rating_predicted']).head())\n",
    "print(pd.DataFrame(y_test).head())"
   ]
  },
  {
   "cell_type": "markdown",
   "metadata": {},
   "source": [
    "### Linear regression model evaluation"
   ]
  },
  {
   "cell_type": "code",
   "execution_count": 435,
   "metadata": {},
   "outputs": [
    {
     "data": {
      "text/plain": [
       "Text(0.5,0,'errors')"
      ]
     },
     "execution_count": 435,
     "metadata": {},
     "output_type": "execute_result"
    },
    {
     "data": {
      "image/png": "[encoded data removed]",
      "text/plain": [
       "<Figure size 1080x360 with 2 Axes>"
      ]
     },
     "metadata": {
      "needs_background": "light"
     },
     "output_type": "display_data"
    }
   ],
   "source": [
    "plt.figure(figsize=(15,5))\n",
    "plt.subplot(1,2,1)\n",
    "plt.scatter(y_test, pred, c='red')\n",
    "plt.subplot(1,2,2)\n",
    "sns.distplot(y_test-pred)\n",
    "plt.xlabel('errors')"
   ]
  },
  {
   "cell_type": "markdown",
   "metadata": {},
   "source": [
    "As can be seen in plot2, the error distribution is approx. normal- which is an indicator that is model is a fine choice. However, the unexpected signs on the coefficients say that a better model needs to be investigated.\n",
    "\n",
    "Evaluation metrics:"
   ]
  },
  {
   "cell_type": "code",
   "execution_count": 429,
   "metadata": {},
   "outputs": [
    {
     "name": "stdout",
     "output_type": "stream",
     "text": [
      "MAE:  2.1099 \n",
      "MSE:  7.6611 \n",
      "RMSE:  2.7679\n"
     ]
    }
   ],
   "source": [
    "print(\"MAE: \", round(metrics.mean_absolute_error(y_test, pred), 4), \"\\nMSE: \", round(metrics.mean_squared_error(y_test, pred), 4), \"\\nRMSE: \", round(np.sqrt(metrics.mean_squared_error(y_test, pred)), 4))"
   ]
  },
  {
   "cell_type": "markdown",
   "metadata": {},
   "source": [
    "### Summary statistics & P-values \n",
    "\n",
    "Based on significance level 5%, reading the p-values, following attributes are insignificant: volleys, preferred_foot_right and defensive_work_rate_unknown."
   ]
  },
  {
   "cell_type": "code",
   "execution_count": 430,
   "metadata": {},
   "outputs": [],
   "source": [
    "import statsmodels.api as sm\n",
    "from scipy import stats"
   ]
  },
  {
   "cell_type": "code",
   "execution_count": 431,
   "metadata": {},
   "outputs": [
    {
     "name": "stdout",
     "output_type": "stream",
     "text": [
      "                            OLS Regression Results                            \n",
      "==============================================================================\n",
      "Dep. Variable:         overall_rating   R-squared:                       0.843\n",
      "Model:                            OLS   Adj. R-squared:                  0.843\n",
      "Method:                 Least Squares   F-statistic:                 1.692e+04\n",
      "Date:                Tue, 14 Jul 2020   Prob (F-statistic):               0.00\n",
      "Time:                        00:17:03   Log-Likelihood:            -3.1438e+05\n",
      "No. Observations:              128784   AIC:                         6.289e+05\n",
      "Df Residuals:                  128742   BIC:                         6.293e+05\n",
      "Df Model:                          41                                         \n",
      "Covariance Type:            nonrobust                                         \n",
      "===============================================================================================\n",
      "                                  coef    std err          t      P>|t|      [0.025      0.975]\n",
      "-----------------------------------------------------------------------------------------------\n",
      "const                          -3.4118      0.122    -28.018      0.000      -3.650      -3.173\n",
      "potential                       0.3789      0.002    219.685      0.000       0.376       0.382\n",
      "crossing                        0.0224      0.001     22.550      0.000       0.020       0.024\n",
      "finishing                       0.0131      0.001     12.122      0.000       0.011       0.015\n",
      "heading_accuracy                0.0685      0.001     70.916      0.000       0.067       0.070\n",
      "short_passing                   0.0509      0.002     31.462      0.000       0.048       0.054\n",
      "volleys                         0.0010      0.001      1.014      0.311      -0.001       0.003\n",
      "dribbling                      -0.0104      0.001     -7.605      0.000      -0.013      -0.008\n",
      "curve                           0.0111      0.001     11.736      0.000       0.009       0.013\n",
      "free_kick_accuracy              0.0147      0.001     17.608      0.000       0.013       0.016\n",
      "long_passing                    0.0059      0.001      5.311      0.000       0.004       0.008\n",
      "ball_control                    0.1341      0.002     71.946      0.000       0.130       0.138\n",
      "acceleration                    0.0053      0.002      3.242      0.001       0.002       0.008\n",
      "sprint_speed                    0.0115      0.002      7.389      0.000       0.008       0.015\n",
      "agility                        -0.0082      0.001     -6.837      0.000      -0.011      -0.006\n",
      "reactions                       0.2060      0.001    161.704      0.000       0.204       0.209\n",
      "balance                         0.0067      0.001      7.191      0.000       0.005       0.008\n",
      "shot_power                      0.0152      0.001     14.656      0.000       0.013       0.017\n",
      "jumping                         0.0162      0.001     18.660      0.000       0.014       0.018\n",
      "stamina                        -0.0031      0.001     -3.121      0.002      -0.005      -0.001\n",
      "strength                        0.0597      0.001     60.077      0.000       0.058       0.062\n",
      "long_shots                     -0.0122      0.001    -11.278      0.000      -0.014      -0.010\n",
      "aggression                      0.0199      0.001     24.417      0.000       0.018       0.021\n",
      "interceptions                   0.0127      0.001     14.696      0.000       0.011       0.014\n",
      "positioning                    -0.0084      0.001     -8.990      0.000      -0.010      -0.007\n",
      "vision                         -0.0024      0.001     -2.322      0.020      -0.004      -0.000\n",
      "penalties                       0.0123      0.001     13.852      0.000       0.011       0.014\n",
      "marking                         0.0337      0.001     25.632      0.000       0.031       0.036\n",
      "standing_tackle                 0.0033      0.002      2.213      0.027       0.000       0.006\n",
      "sliding_tackle                 -0.0286      0.001    -22.881      0.000      -0.031      -0.026\n",
      "gk_diving                       0.1680      0.002     97.491      0.000       0.165       0.171\n",
      "gk_handling                     0.0326      0.002     14.309      0.000       0.028       0.037\n",
      "gk_kicking                     -0.0332      0.001    -45.541      0.000      -0.035      -0.032\n",
      "gk_positioning                  0.0573      0.002     25.297      0.000       0.053       0.062\n",
      "gk_reflexes                     0.0238      0.002     10.675      0.000       0.019       0.028\n",
      "preferred_foot_right           -0.0099      0.019     -0.528      0.598      -0.047       0.027\n",
      "attacking_work_rate_low         1.2683      0.043     29.731      0.000       1.185       1.352\n",
      "attacking_work_rate_medium     -0.0896      0.020     -4.415      0.000      -0.129      -0.050\n",
      "attacking_work_rate_unknown    -0.4155      0.157     -2.650      0.008      -0.723      -0.108\n",
      "defensive_work_rate_low         0.4291      0.036     12.028      0.000       0.359       0.499\n",
      "defensive_work_rate_medium     -0.2560      0.024    -10.684      0.000      -0.303      -0.209\n",
      "defensive_work_rate_unknown     0.0206      0.155      0.132      0.895      -0.284       0.325\n",
      "==============================================================================\n",
      "Omnibus:                     5434.456   Durbin-Watson:                   2.000\n",
      "Prob(Omnibus):                  0.000   Jarque-Bera (JB):            12455.145\n",
      "Skew:                          -0.263   Prob(JB):                         0.00\n",
      "Kurtosis:                       4.430   Cond. No.                     9.17e+03\n",
      "==============================================================================\n",
      "\n",
      "Warnings:\n",
      "[1] Standard Errors assume that the covariance matrix of the errors is correctly specified.\n",
      "[2] The condition number is large, 9.17e+03. This might indicate that there are\n",
      "strong multicollinearity or other numerical problems.\n"
     ]
    }
   ],
   "source": [
    "x2 = sm.add_constant(x_train)\n",
    "est = sm.OLS(y_train, x2)\n",
    "est2 = est.fit()\n",
    "print(est2.summary())"
   ]
  },
  {
   "cell_type": "markdown",
   "metadata": {},
   "source": [
    "We have re-run the above model after removing the insignificant variables. R^2 has not changed, but we now see that all the variables are significant. As per this model, a category 'unknowns' in defensive_work_rate is insignificant to the model. The error distribution is approx. normal.\n",
    "\n",
    "Given that few of the attributes still have negative signs (unexpected), we shall look for a better model."
   ]
  },
  {
   "cell_type": "code",
   "execution_count": 432,
   "metadata": {},
   "outputs": [
    {
     "name": "stdout",
     "output_type": "stream",
     "text": [
      "                            OLS Regression Results                            \n",
      "==============================================================================\n",
      "Dep. Variable:         overall_rating   R-squared:                       0.843\n",
      "Model:                            OLS   Adj. R-squared:                  0.843\n",
      "Method:                 Least Squares   F-statistic:                 1.825e+04\n",
      "Date:                Tue, 14 Jul 2020   Prob (F-statistic):               0.00\n",
      "Time:                        00:18:25   Log-Likelihood:            -3.1439e+05\n",
      "No. Observations:              128784   AIC:                         6.288e+05\n",
      "Df Residuals:                  128745   BIC:                         6.292e+05\n",
      "Df Model:                          38                                         \n",
      "Covariance Type:            nonrobust                                         \n",
      "===============================================================================================\n",
      "                                  coef    std err          t      P>|t|      [0.025      0.975]\n",
      "-----------------------------------------------------------------------------------------------\n",
      "const                          -3.4200      0.121    -28.354      0.000      -3.656      -3.184\n",
      "potential                       0.3789      0.002    219.762      0.000       0.375       0.382\n",
      "crossing                        0.0225      0.001     22.825      0.000       0.021       0.024\n",
      "finishing                       0.0134      0.001     12.816      0.000       0.011       0.015\n",
      "heading_accuracy                0.0686      0.001     71.214      0.000       0.067       0.070\n",
      "short_passing                   0.0509      0.002     31.496      0.000       0.048       0.054\n",
      "dribbling                      -0.0104      0.001     -7.564      0.000      -0.013      -0.008\n",
      "curve                           0.0113      0.001     12.142      0.000       0.009       0.013\n",
      "free_kick_accuracy              0.0147      0.001     17.683      0.000       0.013       0.016\n",
      "long_passing                    0.0058      0.001      5.241      0.000       0.004       0.008\n",
      "ball_control                    0.1342      0.002     71.976      0.000       0.131       0.138\n",
      "acceleration                    0.0053      0.002      3.218      0.001       0.002       0.008\n",
      "sprint_speed                    0.0115      0.002      7.385      0.000       0.008       0.014\n",
      "agility                        -0.0082      0.001     -6.802      0.000      -0.011      -0.006\n",
      "reactions                       0.2061      0.001    162.123      0.000       0.204       0.209\n",
      "balance                         0.0067      0.001      7.176      0.000       0.005       0.008\n",
      "shot_power                      0.0153      0.001     14.833      0.000       0.013       0.017\n",
      "jumping                         0.0162      0.001     18.665      0.000       0.014       0.018\n",
      "stamina                        -0.0031      0.001     -3.165      0.002      -0.005      -0.001\n",
      "strength                        0.0597      0.001     60.084      0.000       0.058       0.062\n",
      "long_shots                     -0.0120      0.001    -11.251      0.000      -0.014      -0.010\n",
      "aggression                      0.0199      0.001     24.417      0.000       0.018       0.021\n",
      "interceptions                   0.0127      0.001     14.671      0.000       0.011       0.014\n",
      "positioning                    -0.0084      0.001     -8.955      0.000      -0.010      -0.007\n",
      "vision                         -0.0023      0.001     -2.260      0.024      -0.004      -0.000\n",
      "penalties                       0.0123      0.001     13.918      0.000       0.011       0.014\n",
      "marking                         0.0336      0.001     25.648      0.000       0.031       0.036\n",
      "standing_tackle                 0.0033      0.002      2.188      0.029       0.000       0.006\n",
      "sliding_tackle                 -0.0286      0.001    -22.857      0.000      -0.031      -0.026\n",
      "gk_diving                       0.1680      0.002     97.501      0.000       0.165       0.171\n",
      "gk_handling                     0.0326      0.002     14.295      0.000       0.028       0.037\n",
      "gk_kicking                     -0.0331      0.001    -45.538      0.000      -0.035      -0.032\n",
      "gk_positioning                  0.0573      0.002     25.305      0.000       0.053       0.062\n",
      "gk_reflexes                     0.0238      0.002     10.694      0.000       0.019       0.028\n",
      "attacking_work_rate_low         1.2680      0.043     29.732      0.000       1.184       1.352\n",
      "attacking_work_rate_medium     -0.0897      0.020     -4.419      0.000      -0.129      -0.050\n",
      "attacking_work_rate_unknown    -0.3969      0.048     -8.349      0.000      -0.490      -0.304\n",
      "defensive_work_rate_low         0.4291      0.036     12.086      0.000       0.360       0.499\n",
      "defensive_work_rate_medium     -0.2568      0.024    -10.807      0.000      -0.303      -0.210\n",
      "==============================================================================\n",
      "Omnibus:                     5432.472   Durbin-Watson:                   2.000\n",
      "Prob(Omnibus):                  0.000   Jarque-Bera (JB):            12447.885\n",
      "Skew:                          -0.263   Prob(JB):                         0.00\n",
      "Kurtosis:                       4.429   Cond. No.                     5.07e+03\n",
      "==============================================================================\n",
      "\n",
      "Warnings:\n",
      "[1] Standard Errors assume that the covariance matrix of the errors is correctly specified.\n",
      "[2] The condition number is large, 5.07e+03. This might indicate that there are\n",
      "strong multicollinearity or other numerical problems.\n"
     ]
    }
   ],
   "source": [
    "lm.fit(x_train.drop(['volleys', 'preferred_foot_right', 'defensive_work_rate_unknown'], axis=1), y_train)\n",
    "pred=lm.predict(x_test.drop(['volleys', 'preferred_foot_right', 'defensive_work_rate_unknown'], axis=1))\n",
    "x2 = sm.add_constant(x_train.drop(['volleys', 'preferred_foot_right', 'defensive_work_rate_unknown'], axis=1))\n",
    "est = sm.OLS(y_train, x2)\n",
    "est2 = est.fit()\n",
    "print(est2.summary())"
   ]
  },
  {
   "cell_type": "code",
   "execution_count": 434,
   "metadata": {},
   "outputs": [
    {
     "data": {
      "text/plain": [
       "Text(0.5,0,'errors')"
      ]
     },
     "execution_count": 434,
     "metadata": {},
     "output_type": "execute_result"
    },
    {
     "data": {
      "image/png": "[encoded data removed]",
      "text/plain": [
       "<Figure size 576x360 with 1 Axes>"
      ]
     },
     "metadata": {
      "needs_background": "light"
     },
     "output_type": "display_data"
    }
   ],
   "source": [
    "plt.figure(figsize=(8,5))\n",
    "sns.distplot(y_test-pred)\n",
    "plt.xlabel('errors')"
   ]
  },
  {
   "cell_type": "markdown",
   "metadata": {},
   "source": [
    "## PCA\n",
    "\n",
    "### With Scaling"
   ]
  },
  {
   "cell_type": "markdown",
   "metadata": {},
   "source": [
    "We shall do PCA here to get a dimensionally reduced dataset, and then proceed with Linear Regression. A screeplot was used to decide the best possible number of principal components to consider in order to explain max. variation in the overall_rating dependent variable. R^2 values of the training dataset has been used for the scree-plot."
   ]
  },
  {
   "cell_type": "code",
   "execution_count": 436,
   "metadata": {},
   "outputs": [],
   "source": [
    "from sklearn.preprocessing import StandardScaler\n",
    "from sklearn.decomposition import PCA"
   ]
  },
  {
   "cell_type": "code",
   "execution_count": 452,
   "metadata": {},
   "outputs": [],
   "source": [
    "x=player.drop('overall_rating', axis=1)\n",
    "y=player['overall_rating']\n",
    "x_train, x_test, y_train, y_test = train_test_split(x, y, test_size=0.3, random_state=101)"
   ]
  },
  {
   "cell_type": "code",
   "execution_count": 453,
   "metadata": {},
   "outputs": [
    {
     "name": "stderr",
     "output_type": "stream",
     "text": [
      "C:\\Users\\Roshiny Thomas\\Anaconda3\\lib\\site-packages\\sklearn\\preprocessing\\data.py:625: DataConversionWarning: Data with input dtype uint8, float64 were all converted to float64 by StandardScaler.\n",
      "  return self.partial_fit(X, y)\n",
      "C:\\Users\\Roshiny Thomas\\Anaconda3\\lib\\site-packages\\sklearn\\preprocessing\\data.py:625: DataConversionWarning: Data with input dtype uint8, float64 were all converted to float64 by StandardScaler.\n",
      "  return self.partial_fit(X, y)\n",
      "C:\\Users\\Roshiny Thomas\\Anaconda3\\lib\\site-packages\\ipykernel_launcher.py:4: DataConversionWarning: Data with input dtype uint8, float64 were all converted to float64 by StandardScaler.\n",
      "  after removing the cwd from sys.path.\n",
      "C:\\Users\\Roshiny Thomas\\Anaconda3\\lib\\site-packages\\ipykernel_launcher.py:5: DataConversionWarning: Data with input dtype uint8, float64 were all converted to float64 by StandardScaler.\n",
      "  \"\"\"\n"
     ]
    }
   ],
   "source": [
    "sc=StandardScaler()\n",
    "sc.fit(x_train)\n",
    "sc.fit(x_test)\n",
    "scaled_train=sc.transform(x_train)\n",
    "scaled_test=sc.transform(x_test)"
   ]
  },
  {
   "cell_type": "code",
   "execution_count": 454,
   "metadata": {},
   "outputs": [
    {
     "data": {
      "text/html": [
       "<div>\n",
       "<style scoped>\n",
       "    .dataframe tbody tr th:only-of-type {\n",
       "        vertical-align: middle;\n",
       "    }\n",
       "\n",
       "    .dataframe tbody tr th {\n",
       "        vertical-align: top;\n",
       "    }\n",
       "\n",
       "    .dataframe thead th {\n",
       "        text-align: right;\n",
       "    }\n",
       "</style>\n",
       "<table border=\"1\" class=\"dataframe\">\n",
       "  <thead>\n",
       "    <tr style=\"text-align: right;\">\n",
       "      <th></th>\n",
       "      <th>potential</th>\n",
       "      <th>crossing</th>\n",
       "      <th>finishing</th>\n",
       "      <th>heading_accuracy</th>\n",
       "      <th>short_passing</th>\n",
       "      <th>volleys</th>\n",
       "      <th>dribbling</th>\n",
       "      <th>curve</th>\n",
       "      <th>free_kick_accuracy</th>\n",
       "      <th>long_passing</th>\n",
       "      <th>...</th>\n",
       "      <th>gk_kicking</th>\n",
       "      <th>gk_positioning</th>\n",
       "      <th>gk_reflexes</th>\n",
       "      <th>preferred_foot_right</th>\n",
       "      <th>attacking_work_rate_low</th>\n",
       "      <th>attacking_work_rate_medium</th>\n",
       "      <th>attacking_work_rate_unknown</th>\n",
       "      <th>defensive_work_rate_low</th>\n",
       "      <th>defensive_work_rate_medium</th>\n",
       "      <th>defensive_work_rate_unknown</th>\n",
       "    </tr>\n",
       "  </thead>\n",
       "  <tbody>\n",
       "    <tr>\n",
       "      <th>0</th>\n",
       "      <td>0.237805</td>\n",
       "      <td>0.401075</td>\n",
       "      <td>-0.306591</td>\n",
       "      <td>-0.258460</td>\n",
       "      <td>-0.027932</td>\n",
       "      <td>0.308199</td>\n",
       "      <td>0.330564</td>\n",
       "      <td>0.276973</td>\n",
       "      <td>1.046294</td>\n",
       "      <td>-0.212141</td>\n",
       "      <td>...</td>\n",
       "      <td>-0.325141</td>\n",
       "      <td>-0.383016</td>\n",
       "      <td>-0.142346</td>\n",
       "      <td>-1.754043</td>\n",
       "      <td>-0.219589</td>\n",
       "      <td>0.685135</td>\n",
       "      <td>-0.206054</td>\n",
       "      <td>-0.330764</td>\n",
       "      <td>0.636171</td>\n",
       "      <td>-0.207911</td>\n",
       "    </tr>\n",
       "    <tr>\n",
       "      <th>1</th>\n",
       "      <td>1.458928</td>\n",
       "      <td>-0.932083</td>\n",
       "      <td>-0.781425</td>\n",
       "      <td>1.748737</td>\n",
       "      <td>0.112916</td>\n",
       "      <td>-0.354344</td>\n",
       "      <td>-0.743173</td>\n",
       "      <td>-1.101047</td>\n",
       "      <td>-1.258703</td>\n",
       "      <td>0.341591</td>\n",
       "      <td>...</td>\n",
       "      <td>-0.652873</td>\n",
       "      <td>-0.631961</td>\n",
       "      <td>-0.316743</td>\n",
       "      <td>0.570111</td>\n",
       "      <td>4.553952</td>\n",
       "      <td>-1.459565</td>\n",
       "      <td>-0.206054</td>\n",
       "      <td>-0.330764</td>\n",
       "      <td>-1.571905</td>\n",
       "      <td>-0.207911</td>\n",
       "    </tr>\n",
       "    <tr>\n",
       "      <th>2</th>\n",
       "      <td>-0.067476</td>\n",
       "      <td>0.574965</td>\n",
       "      <td>1.117914</td>\n",
       "      <td>0.836374</td>\n",
       "      <td>0.112916</td>\n",
       "      <td>0.860319</td>\n",
       "      <td>0.556614</td>\n",
       "      <td>0.332094</td>\n",
       "      <td>0.371661</td>\n",
       "      <td>-0.212141</td>\n",
       "      <td>...</td>\n",
       "      <td>-0.465598</td>\n",
       "      <td>-0.383016</td>\n",
       "      <td>-0.374876</td>\n",
       "      <td>0.570111</td>\n",
       "      <td>-0.219589</td>\n",
       "      <td>-1.459565</td>\n",
       "      <td>-0.206054</td>\n",
       "      <td>-0.330764</td>\n",
       "      <td>0.636171</td>\n",
       "      <td>-0.207911</td>\n",
       "    </tr>\n",
       "    <tr>\n",
       "      <th>3</th>\n",
       "      <td>-0.830678</td>\n",
       "      <td>-0.120596</td>\n",
       "      <td>0.959636</td>\n",
       "      <td>0.836374</td>\n",
       "      <td>0.042492</td>\n",
       "      <td>0.970743</td>\n",
       "      <td>0.104514</td>\n",
       "      <td>-0.053752</td>\n",
       "      <td>0.877636</td>\n",
       "      <td>-0.142925</td>\n",
       "      <td>...</td>\n",
       "      <td>-0.652873</td>\n",
       "      <td>-0.196307</td>\n",
       "      <td>-0.607406</td>\n",
       "      <td>0.570111</td>\n",
       "      <td>-0.219589</td>\n",
       "      <td>0.685135</td>\n",
       "      <td>-0.206054</td>\n",
       "      <td>3.023303</td>\n",
       "      <td>-1.571905</td>\n",
       "      <td>-0.207911</td>\n",
       "    </tr>\n",
       "    <tr>\n",
       "      <th>4</th>\n",
       "      <td>-0.983319</td>\n",
       "      <td>0.111258</td>\n",
       "      <td>-0.042793</td>\n",
       "      <td>0.349781</td>\n",
       "      <td>0.324187</td>\n",
       "      <td>0.529047</td>\n",
       "      <td>0.387077</td>\n",
       "      <td>0.276973</td>\n",
       "      <td>0.371661</td>\n",
       "      <td>0.480024</td>\n",
       "      <td>...</td>\n",
       "      <td>-0.512416</td>\n",
       "      <td>-0.631961</td>\n",
       "      <td>-0.374876</td>\n",
       "      <td>0.570111</td>\n",
       "      <td>-0.219589</td>\n",
       "      <td>0.685135</td>\n",
       "      <td>-0.206054</td>\n",
       "      <td>-0.330764</td>\n",
       "      <td>0.636171</td>\n",
       "      <td>-0.207911</td>\n",
       "    </tr>\n",
       "  </tbody>\n",
       "</table>\n",
       "<p>5 rows × 41 columns</p>\n",
       "</div>"
      ],
      "text/plain": [
       "   potential  crossing  finishing  heading_accuracy  short_passing   volleys  \\\n",
       "0   0.237805  0.401075  -0.306591         -0.258460      -0.027932  0.308199   \n",
       "1   1.458928 -0.932083  -0.781425          1.748737       0.112916 -0.354344   \n",
       "2  -0.067476  0.574965   1.117914          0.836374       0.112916  0.860319   \n",
       "3  -0.830678 -0.120596   0.959636          0.836374       0.042492  0.970743   \n",
       "4  -0.983319  0.111258  -0.042793          0.349781       0.324187  0.529047   \n",
       "\n",
       "   dribbling     curve  free_kick_accuracy  long_passing  \\\n",
       "0   0.330564  0.276973            1.046294     -0.212141   \n",
       "1  -0.743173 -1.101047           -1.258703      0.341591   \n",
       "2   0.556614  0.332094            0.371661     -0.212141   \n",
       "3   0.104514 -0.053752            0.877636     -0.142925   \n",
       "4   0.387077  0.276973            0.371661      0.480024   \n",
       "\n",
       "              ...               gk_kicking  gk_positioning  gk_reflexes  \\\n",
       "0             ...                -0.325141       -0.383016    -0.142346   \n",
       "1             ...                -0.652873       -0.631961    -0.316743   \n",
       "2             ...                -0.465598       -0.383016    -0.374876   \n",
       "3             ...                -0.652873       -0.196307    -0.607406   \n",
       "4             ...                -0.512416       -0.631961    -0.374876   \n",
       "\n",
       "   preferred_foot_right  attacking_work_rate_low  attacking_work_rate_medium  \\\n",
       "0             -1.754043                -0.219589                    0.685135   \n",
       "1              0.570111                 4.553952                   -1.459565   \n",
       "2              0.570111                -0.219589                   -1.459565   \n",
       "3              0.570111                -0.219589                    0.685135   \n",
       "4              0.570111                -0.219589                    0.685135   \n",
       "\n",
       "   attacking_work_rate_unknown  defensive_work_rate_low  \\\n",
       "0                    -0.206054                -0.330764   \n",
       "1                    -0.206054                -0.330764   \n",
       "2                    -0.206054                -0.330764   \n",
       "3                    -0.206054                 3.023303   \n",
       "4                    -0.206054                -0.330764   \n",
       "\n",
       "   defensive_work_rate_medium  defensive_work_rate_unknown  \n",
       "0                    0.636171                    -0.207911  \n",
       "1                   -1.571905                    -0.207911  \n",
       "2                    0.636171                    -0.207911  \n",
       "3                   -1.571905                    -0.207911  \n",
       "4                    0.636171                    -0.207911  \n",
       "\n",
       "[5 rows x 41 columns]"
      ]
     },
     "execution_count": 454,
     "metadata": {},
     "output_type": "execute_result"
    }
   ],
   "source": [
    "pd.DataFrame(scaled_train, columns=x_train.columns).head()"
   ]
  },
  {
   "cell_type": "markdown",
   "metadata": {},
   "source": [
    "#### Scree-plot: \n",
    "\n",
    "n_components=12 seems like a good choice."
   ]
  },
  {
   "cell_type": "code",
   "execution_count": 439,
   "metadata": {},
   "outputs": [
    {
     "data": {
      "text/plain": [
       "Text(0,0.5,'explained variance R^2')"
      ]
     },
     "execution_count": 439,
     "metadata": {},
     "output_type": "execute_result"
    },
    {
     "data": {
      "image/png": "[encoded data removed]",
      "text/plain": [
       "<Figure size 720x432 with 1 Axes>"
      ]
     },
     "metadata": {
      "needs_background": "light"
     },
     "output_type": "display_data"
    }
   ],
   "source": [
    "error=[]\n",
    "for i in range(1,41):\n",
    "    pca=PCA(n_components=i)\n",
    "    pca.fit(scaled_train)\n",
    "    pca_train=pca.transform(scaled_train)\n",
    "    lm.fit(pca_train, y_train)\n",
    "    error.append(lm.score(pca_train, y_train))\n",
    "plt.figure(figsize=(10,6))\n",
    "plt.plot(range(1,41), error, color='blue', linestyle='--', marker='o', markerfacecolor='red', markersize=10)\n",
    "plt.title(\"Scree-plot\")\n",
    "plt.xlabel(\"n_components\")\n",
    "plt.ylabel(\"explained variance R^2\")"
   ]
  },
  {
   "cell_type": "code",
   "execution_count": 455,
   "metadata": {},
   "outputs": [],
   "source": [
    "pca=PCA(n_components=12)\n",
    "pca.fit(scaled_train)\n",
    "pca.fit(scaled_test)\n",
    "pca_train=pca.transform(scaled_train)\n",
    "pca_test=pca.transform(scaled_test)"
   ]
  },
  {
   "cell_type": "code",
   "execution_count": 456,
   "metadata": {},
   "outputs": [
    {
     "name": "stdout",
     "output_type": "stream",
     "text": [
      "intercept:  68.59050653723635 \n",
      " R^2:  0.8202846227173871\n",
      "                            OLS Regression Results                            \n",
      "==============================================================================\n",
      "Dep. Variable:         overall_rating   R-squared:                       0.820\n",
      "Model:                            OLS   Adj. R-squared:                  0.820\n",
      "Method:                 Least Squares   F-statistic:                 4.898e+04\n",
      "Date:                Tue, 14 Jul 2020   Prob (F-statistic):               0.00\n",
      "Time:                        00:33:31   Log-Likelihood:            -3.2327e+05\n",
      "No. Observations:              128784   AIC:                         6.466e+05\n",
      "Df Residuals:                  128771   BIC:                         6.467e+05\n",
      "Df Model:                          12                                         \n",
      "Covariance Type:            nonrobust                                         \n",
      "==============================================================================\n",
      "                 coef    std err          t      P>|t|      [0.025      0.975]\n",
      "------------------------------------------------------------------------------\n",
      "const         68.5905      0.008   8264.133      0.000      68.574      68.607\n",
      "x1            -0.7296      0.002   -347.449      0.000      -0.734      -0.725\n",
      "x2             0.0170      0.003      4.873      0.000       0.010       0.024\n",
      "x3             2.8589      0.005    560.861      0.000       2.849       2.869\n",
      "x4            -1.1783      0.005   -216.861      0.000      -1.189      -1.168\n",
      "x5             0.9025      0.006    153.803      0.000       0.891       0.914\n",
      "x6            -0.8159      0.007   -124.862      0.000      -0.829      -0.803\n",
      "x7             0.1935      0.007     26.315      0.000       0.179       0.208\n",
      "x8             0.1721      0.008     22.371      0.000       0.157       0.187\n",
      "x9             0.4989      0.008     59.365      0.000       0.482       0.515\n",
      "x10           -1.6788      0.009   -180.837      0.000      -1.697      -1.661\n",
      "x11           -1.7318      0.010   -168.658      0.000      -1.752      -1.712\n",
      "x12            0.1364      0.011     12.878      0.000       0.116       0.157\n",
      "==============================================================================\n",
      "Omnibus:                     8696.683   Durbin-Watson:                   2.000\n",
      "Prob(Omnibus):                  0.000   Jarque-Bera (JB):            21500.300\n",
      "Skew:                          -0.409   Prob(JB):                         0.00\n",
      "Kurtosis:                       4.827   Cond. No.                         5.05\n",
      "==============================================================================\n",
      "\n",
      "Warnings:\n",
      "[1] Standard Errors assume that the covariance matrix of the errors is correctly specified.\n"
     ]
    }
   ],
   "source": [
    "lm.fit(pca_train, y_train)\n",
    "print(\"intercept: \", lm.intercept_, \"\\n\", \"R^2: \", lm.score(pca_train, y_train))\n",
    "x2 = sm.add_constant(pca_train)\n",
    "est = sm.OLS(y_train, x2)\n",
    "est2 = est.fit()\n",
    "print(est2.summary())"
   ]
  },
  {
   "cell_type": "code",
   "execution_count": 442,
   "metadata": {},
   "outputs": [
    {
     "name": "stdout",
     "output_type": "stream",
     "text": [
      "        overall_rating_predicted\n",
      "89795                  75.622395\n",
      "145987                 66.691866\n",
      "81345                  63.875434\n",
      "40399                  73.509973\n",
      "143301                 73.715888\n",
      "        overall_rating\n",
      "89795             81.0\n",
      "145987            72.0\n",
      "81345             65.0\n",
      "40399             76.0\n",
      "143301            76.0\n"
     ]
    }
   ],
   "source": [
    "pred=lm.predict(pca_test)\n",
    "print(pd.DataFrame(pred, y_test.index, columns=['overall_rating_predicted']).head())\n",
    "print(pd.DataFrame(y_test).head())"
   ]
  },
  {
   "cell_type": "markdown",
   "metadata": {},
   "source": [
    "### Model Evaluation"
   ]
  },
  {
   "cell_type": "code",
   "execution_count": 444,
   "metadata": {},
   "outputs": [
    {
     "data": {
      "text/plain": [
       "Text(0.5,0,'errors')"
      ]
     },
     "execution_count": 444,
     "metadata": {},
     "output_type": "execute_result"
    },
    {
     "data": {
      "image/png": "[encoded data removed]",
      "text/plain": [
       "<Figure size 1080x360 with 2 Axes>"
      ]
     },
     "metadata": {
      "needs_background": "light"
     },
     "output_type": "display_data"
    }
   ],
   "source": [
    "plt.figure(figsize=(15,5))\n",
    "plt.subplot(1,2,1)\n",
    "plt.scatter(y_test, pred, c='red')\n",
    "plt.subplot(1,2,2)\n",
    "sns.distplot(y_test-pred)\n",
    "plt.xlabel('errors')"
   ]
  },
  {
   "cell_type": "markdown",
   "metadata": {},
   "source": [
    "The metrics obtained indicate that the PCA-led linear regression is also a fine model. It is not possible to isolate effects of individual attributes at this point, only the joint effect. However, RMSE is slightly more than the previous regression model (although a very low value when one considers the size of the dataset). Hence, we will explore one more model to predict values for overall_rating."
   ]
  },
  {
   "cell_type": "code",
   "execution_count": 377,
   "metadata": {},
   "outputs": [
    {
     "name": "stdout",
     "output_type": "stream",
     "text": [
      "MAE:  2.2451 \n",
      "MSE:  8.8001 \n",
      "RMSE:  2.9665\n"
     ]
    }
   ],
   "source": [
    "print(\"MAE: \", round(metrics.mean_absolute_error(y_test, pred), 4), \"\\nMSE: \", round(metrics.mean_squared_error(y_test, pred), 4), \"\\nRMSE: \", round(np.sqrt(metrics.mean_squared_error(y_test, pred)), 4))"
   ]
  },
  {
   "cell_type": "markdown",
   "metadata": {},
   "source": [
    "## PCA\n",
    "\n",
    "### Without Scaling\n",
    "\n",
    "Since all the attributes are actually scores ranging from 1-100, and given that no scores lie outside of that range, the attributes are technically all of the same unit measurement. Hence, it could be a good choice to avoid scaling as well."
   ]
  },
  {
   "cell_type": "code",
   "execution_count": 384,
   "metadata": {},
   "outputs": [
    {
     "data": {
      "text/plain": [
       "Text(0,0.5,'explained variance R^2')"
      ]
     },
     "execution_count": 384,
     "metadata": {},
     "output_type": "execute_result"
    },
    {
     "data": {
      "image/png": "[encoded data removed]",
      "text/plain": [
       "<Figure size 720x432 with 1 Axes>"
      ]
     },
     "metadata": {
      "needs_background": "light"
     },
     "output_type": "display_data"
    }
   ],
   "source": [
    "error=[]\n",
    "for i in range(1,41):\n",
    "    pca=PCA(n_components=i)\n",
    "    pca.fit(x_train)\n",
    "    pca_train=pca.transform(x_train)\n",
    "    lm.fit(pca_train, y_train)\n",
    "    error.append(lm.score(pca_train, y_train))\n",
    "plt.figure(figsize=(10,6))\n",
    "plt.plot(range(1,41), error, color='blue', linestyle='--', marker='o', markerfacecolor='red', markersize=10)\n",
    "plt.title(\"Scree-plot\")\n",
    "plt.xlabel(\"n_components\")\n",
    "plt.ylabel(\"explained variance R^2\")"
   ]
  },
  {
   "cell_type": "markdown",
   "metadata": {},
   "source": [
    "Procceding with n_components=10"
   ]
  },
  {
   "cell_type": "code",
   "execution_count": 457,
   "metadata": {},
   "outputs": [
    {
     "name": "stdout",
     "output_type": "stream",
     "text": [
      "intercept:  68.59105345402567 \n",
      " R^2:  0.742647973840334\n",
      "                            OLS Regression Results                            \n",
      "==============================================================================\n",
      "Dep. Variable:         overall_rating   R-squared:                       0.743\n",
      "Model:                            OLS   Adj. R-squared:                  0.743\n",
      "Method:                 Least Squares   F-statistic:                 3.716e+04\n",
      "Date:                Tue, 14 Jul 2020   Prob (F-statistic):               0.00\n",
      "Time:                        00:34:06   Log-Likelihood:            -3.4639e+05\n",
      "No. Observations:              128784   AIC:                         6.928e+05\n",
      "Df Residuals:                  128773   BIC:                         6.929e+05\n",
      "Df Model:                          10                                         \n",
      "Covariance Type:            nonrobust                                         \n",
      "==============================================================================\n",
      "                 coef    std err          t      P>|t|      [0.025      0.975]\n",
      "------------------------------------------------------------------------------\n",
      "const         68.5911      0.010   6906.061      0.000      68.572      68.611\n",
      "x1            -0.0411      0.000   -267.255      0.000      -0.041      -0.041\n",
      "x2            -0.0036      0.000    -16.151      0.000      -0.004      -0.003\n",
      "x3             0.1422      0.000    367.275      0.000       0.141       0.143\n",
      "x4             0.0763      0.001    151.825      0.000       0.075       0.077\n",
      "x5            -0.0698      0.001   -116.592      0.000      -0.071      -0.069\n",
      "x6            -0.2132      0.001   -295.550      0.000      -0.215      -0.212\n",
      "x7             0.0846      0.001     91.554      0.000       0.083       0.086\n",
      "x8             0.0311      0.001     33.425      0.000       0.029       0.033\n",
      "x9            -0.1220      0.001   -123.617      0.000      -0.124      -0.120\n",
      "x10            0.1428      0.001    135.297      0.000       0.141       0.145\n",
      "==============================================================================\n",
      "Omnibus:                     2068.348   Durbin-Watson:                   2.005\n",
      "Prob(Omnibus):                  0.000   Jarque-Bera (JB):             3097.246\n",
      "Skew:                           0.181   Prob(JB):                         0.00\n",
      "Kurtosis:                       3.668   Cond. No.                         64.5\n",
      "==============================================================================\n",
      "\n",
      "Warnings:\n",
      "[1] Standard Errors assume that the covariance matrix of the errors is correctly specified.\n"
     ]
    }
   ],
   "source": [
    "pca=PCA(n_components=10)\n",
    "pca.fit(x_train)\n",
    "pca.fit(x_test)\n",
    "pca_train=pca.transform(x_train)\n",
    "pca_test=pca.transform(x_test)\n",
    "lm.fit(pca_train, y_train)\n",
    "print(\"intercept: \", lm.intercept_, \"\\n\", \"R^2: \", lm.score(pca_train, y_train))\n",
    "x2 = sm.add_constant(pca_train)\n",
    "est = sm.OLS(y_train, x2)\n",
    "est2 = est.fit()\n",
    "print(est2.summary())"
   ]
  },
  {
   "cell_type": "markdown",
   "metadata": {},
   "source": [
    "The model R^2 has reduced as compared to the previous Linear model with PCA that incorporated scaling. The error plots look normal and is indicative of the model being a fine choice; However since it is not better than the previous, we will create one more model, one where individual attributes can be interpreted."
   ]
  },
  {
   "cell_type": "code",
   "execution_count": 458,
   "metadata": {},
   "outputs": [
    {
     "name": "stdout",
     "output_type": "stream",
     "text": [
      "        overall_rating_predicted\n",
      "89795                  73.703819\n",
      "145987                 67.400710\n",
      "81345                  67.106888\n",
      "40399                  70.859003\n",
      "143301                 69.608091\n",
      "        overall_rating\n",
      "89795             81.0\n",
      "145987            72.0\n",
      "81345             65.0\n",
      "40399             76.0\n",
      "143301            76.0\n"
     ]
    }
   ],
   "source": [
    "pred=lm.predict(pca_test)\n",
    "print(pd.DataFrame(pred, y_test.index, columns=['overall_rating_predicted']).head())\n",
    "print(pd.DataFrame(y_test).head())"
   ]
  },
  {
   "cell_type": "markdown",
   "metadata": {},
   "source": [
    "### Model Evaluation"
   ]
  },
  {
   "cell_type": "code",
   "execution_count": 392,
   "metadata": {},
   "outputs": [
    {
     "name": "stderr",
     "output_type": "stream",
     "text": [
      "C:\\Users\\Roshiny Thomas\\Anaconda3\\lib\\site-packages\\scipy\\stats\\stats.py:1713: FutureWarning: Using a non-tuple sequence for multidimensional indexing is deprecated; use `arr[tuple(seq)]` instead of `arr[seq]`. In the future this will be interpreted as an array index, `arr[np.array(seq)]`, which will result either in an error or a different result.\n",
      "  return np.add.reduce(sorted[indexer] * weights, axis=axis) / sumval\n"
     ]
    },
    {
     "data": {
      "text/plain": [
       "Text(0.5,0,'errors')"
      ]
     },
     "execution_count": 392,
     "metadata": {},
     "output_type": "execute_result"
    },
    {
     "data": {
      "image/png": "[encoded data removed]",
      "text/plain": [
       "<Figure size 1080x360 with 2 Axes>"
      ]
     },
     "metadata": {
      "needs_background": "light"
     },
     "output_type": "display_data"
    }
   ],
   "source": [
    "plt.figure(figsize=(15,5))\n",
    "plt.subplot(1,2,1)\n",
    "plt.scatter(y_test, pred, c='red')\n",
    "plt.subplot(1,2,2)\n",
    "sns.distplot(y_test-pred)\n",
    "plt.xlabel(\"errors\")"
   ]
  },
  {
   "cell_type": "markdown",
   "metadata": {},
   "source": [
    "PCA without scaling has not provided us with much greater performance than its counterpart. The model seems fine, and the error distribution appears normal. However, the model can explain only upto 74% variation in the dependent variable. We will continue investigating for better models for this dataset."
   ]
  },
  {
   "cell_type": "code",
   "execution_count": 459,
   "metadata": {},
   "outputs": [
    {
     "name": "stdout",
     "output_type": "stream",
     "text": [
      "MAE:  2.7532 \n",
      "MSE:  12.4904 \n",
      "RMSE:  3.5342\n"
     ]
    }
   ],
   "source": [
    "print(\"MAE: \", round(metrics.mean_absolute_error(y_test, pred), 4), \"\\nMSE: \", round(metrics.mean_squared_error(y_test, pred), 4), \"\\nRMSE: \", round(np.sqrt(metrics.mean_squared_error(y_test, pred)), 4))"
   ]
  },
  {
   "cell_type": "markdown",
   "metadata": {},
   "source": [
    "## Random Forest \n",
    "\n",
    "We definitely see an improvement in the predicted values. The fit or R^2 has jumped to 99%, and none of the attribute coeeficients have negative signs. The signs and magnitudes are hence, as expected.\n",
    "\n",
    "A quick glance at the coefficients show that increase in 'reactions' score can raise overall rating by 0.48 points, the highest so far."
   ]
  },
  {
   "cell_type": "code",
   "execution_count": 460,
   "metadata": {},
   "outputs": [],
   "source": [
    "x=player.drop('overall_rating', axis=1)\n",
    "y=player['overall_rating']\n",
    "x_train, x_test, y_train, y_test = train_test_split(x, y, test_size=0.3, random_state=101)"
   ]
  },
  {
   "cell_type": "code",
   "execution_count": 461,
   "metadata": {},
   "outputs": [
    {
     "name": "stderr",
     "output_type": "stream",
     "text": [
      "C:\\Users\\Roshiny Thomas\\Anaconda3\\lib\\site-packages\\sklearn\\ensemble\\forest.py:246: FutureWarning: The default value of n_estimators will change from 10 in version 0.20 to 100 in 0.22.\n",
      "  \"10 in version 0.20 to 100 in 0.22.\", FutureWarning)\n"
     ]
    },
    {
     "name": "stdout",
     "output_type": "stream",
     "text": [
      "R^2:  0.9951\n"
     ]
    },
    {
     "data": {
      "text/html": [
       "<div>\n",
       "<style scoped>\n",
       "    .dataframe tbody tr th:only-of-type {\n",
       "        vertical-align: middle;\n",
       "    }\n",
       "\n",
       "    .dataframe tbody tr th {\n",
       "        vertical-align: top;\n",
       "    }\n",
       "\n",
       "    .dataframe thead th {\n",
       "        text-align: right;\n",
       "    }\n",
       "</style>\n",
       "<table border=\"1\" class=\"dataframe\">\n",
       "  <thead>\n",
       "    <tr style=\"text-align: right;\">\n",
       "      <th></th>\n",
       "      <th>Coefficients</th>\n",
       "    </tr>\n",
       "  </thead>\n",
       "  <tbody>\n",
       "    <tr>\n",
       "      <th>potential</th>\n",
       "      <td>0.231059</td>\n",
       "    </tr>\n",
       "    <tr>\n",
       "      <th>crossing</th>\n",
       "      <td>0.009335</td>\n",
       "    </tr>\n",
       "    <tr>\n",
       "      <th>finishing</th>\n",
       "      <td>0.007423</td>\n",
       "    </tr>\n",
       "    <tr>\n",
       "      <th>heading_accuracy</th>\n",
       "      <td>0.019323</td>\n",
       "    </tr>\n",
       "    <tr>\n",
       "      <th>short_passing</th>\n",
       "      <td>0.003771</td>\n",
       "    </tr>\n",
       "    <tr>\n",
       "      <th>volleys</th>\n",
       "      <td>0.001990</td>\n",
       "    </tr>\n",
       "    <tr>\n",
       "      <th>dribbling</th>\n",
       "      <td>0.005884</td>\n",
       "    </tr>\n",
       "    <tr>\n",
       "      <th>curve</th>\n",
       "      <td>0.001624</td>\n",
       "    </tr>\n",
       "    <tr>\n",
       "      <th>free_kick_accuracy</th>\n",
       "      <td>0.001448</td>\n",
       "    </tr>\n",
       "    <tr>\n",
       "      <th>long_passing</th>\n",
       "      <td>0.002685</td>\n",
       "    </tr>\n",
       "    <tr>\n",
       "      <th>ball_control</th>\n",
       "      <td>0.058327</td>\n",
       "    </tr>\n",
       "    <tr>\n",
       "      <th>acceleration</th>\n",
       "      <td>0.002321</td>\n",
       "    </tr>\n",
       "    <tr>\n",
       "      <th>sprint_speed</th>\n",
       "      <td>0.003313</td>\n",
       "    </tr>\n",
       "    <tr>\n",
       "      <th>agility</th>\n",
       "      <td>0.001660</td>\n",
       "    </tr>\n",
       "    <tr>\n",
       "      <th>reactions</th>\n",
       "      <td>0.488725</td>\n",
       "    </tr>\n",
       "    <tr>\n",
       "      <th>balance</th>\n",
       "      <td>0.001463</td>\n",
       "    </tr>\n",
       "    <tr>\n",
       "      <th>shot_power</th>\n",
       "      <td>0.006813</td>\n",
       "    </tr>\n",
       "    <tr>\n",
       "      <th>jumping</th>\n",
       "      <td>0.001968</td>\n",
       "    </tr>\n",
       "    <tr>\n",
       "      <th>stamina</th>\n",
       "      <td>0.004313</td>\n",
       "    </tr>\n",
       "    <tr>\n",
       "      <th>strength</th>\n",
       "      <td>0.007532</td>\n",
       "    </tr>\n",
       "    <tr>\n",
       "      <th>long_shots</th>\n",
       "      <td>0.003483</td>\n",
       "    </tr>\n",
       "    <tr>\n",
       "      <th>aggression</th>\n",
       "      <td>0.004178</td>\n",
       "    </tr>\n",
       "    <tr>\n",
       "      <th>interceptions</th>\n",
       "      <td>0.008400</td>\n",
       "    </tr>\n",
       "    <tr>\n",
       "      <th>positioning</th>\n",
       "      <td>0.012184</td>\n",
       "    </tr>\n",
       "    <tr>\n",
       "      <th>vision</th>\n",
       "      <td>0.002721</td>\n",
       "    </tr>\n",
       "    <tr>\n",
       "      <th>penalties</th>\n",
       "      <td>0.001934</td>\n",
       "    </tr>\n",
       "    <tr>\n",
       "      <th>marking</th>\n",
       "      <td>0.009866</td>\n",
       "    </tr>\n",
       "    <tr>\n",
       "      <th>standing_tackle</th>\n",
       "      <td>0.043553</td>\n",
       "    </tr>\n",
       "    <tr>\n",
       "      <th>sliding_tackle</th>\n",
       "      <td>0.002601</td>\n",
       "    </tr>\n",
       "    <tr>\n",
       "      <th>gk_diving</th>\n",
       "      <td>0.019152</td>\n",
       "    </tr>\n",
       "    <tr>\n",
       "      <th>gk_handling</th>\n",
       "      <td>0.008920</td>\n",
       "    </tr>\n",
       "    <tr>\n",
       "      <th>gk_kicking</th>\n",
       "      <td>0.001821</td>\n",
       "    </tr>\n",
       "    <tr>\n",
       "      <th>gk_positioning</th>\n",
       "      <td>0.014745</td>\n",
       "    </tr>\n",
       "    <tr>\n",
       "      <th>gk_reflexes</th>\n",
       "      <td>0.004606</td>\n",
       "    </tr>\n",
       "    <tr>\n",
       "      <th>preferred_foot_right</th>\n",
       "      <td>0.000173</td>\n",
       "    </tr>\n",
       "    <tr>\n",
       "      <th>attacking_work_rate_low</th>\n",
       "      <td>0.000047</td>\n",
       "    </tr>\n",
       "    <tr>\n",
       "      <th>attacking_work_rate_medium</th>\n",
       "      <td>0.000183</td>\n",
       "    </tr>\n",
       "    <tr>\n",
       "      <th>attacking_work_rate_unknown</th>\n",
       "      <td>0.000081</td>\n",
       "    </tr>\n",
       "    <tr>\n",
       "      <th>defensive_work_rate_low</th>\n",
       "      <td>0.000086</td>\n",
       "    </tr>\n",
       "    <tr>\n",
       "      <th>defensive_work_rate_medium</th>\n",
       "      <td>0.000185</td>\n",
       "    </tr>\n",
       "    <tr>\n",
       "      <th>defensive_work_rate_unknown</th>\n",
       "      <td>0.000107</td>\n",
       "    </tr>\n",
       "  </tbody>\n",
       "</table>\n",
       "</div>"
      ],
      "text/plain": [
       "                             Coefficients\n",
       "potential                        0.231059\n",
       "crossing                         0.009335\n",
       "finishing                        0.007423\n",
       "heading_accuracy                 0.019323\n",
       "short_passing                    0.003771\n",
       "volleys                          0.001990\n",
       "dribbling                        0.005884\n",
       "curve                            0.001624\n",
       "free_kick_accuracy               0.001448\n",
       "long_passing                     0.002685\n",
       "ball_control                     0.058327\n",
       "acceleration                     0.002321\n",
       "sprint_speed                     0.003313\n",
       "agility                          0.001660\n",
       "reactions                        0.488725\n",
       "balance                          0.001463\n",
       "shot_power                       0.006813\n",
       "jumping                          0.001968\n",
       "stamina                          0.004313\n",
       "strength                         0.007532\n",
       "long_shots                       0.003483\n",
       "aggression                       0.004178\n",
       "interceptions                    0.008400\n",
       "positioning                      0.012184\n",
       "vision                           0.002721\n",
       "penalties                        0.001934\n",
       "marking                          0.009866\n",
       "standing_tackle                  0.043553\n",
       "sliding_tackle                   0.002601\n",
       "gk_diving                        0.019152\n",
       "gk_handling                      0.008920\n",
       "gk_kicking                       0.001821\n",
       "gk_positioning                   0.014745\n",
       "gk_reflexes                      0.004606\n",
       "preferred_foot_right             0.000173\n",
       "attacking_work_rate_low          0.000047\n",
       "attacking_work_rate_medium       0.000183\n",
       "attacking_work_rate_unknown      0.000081\n",
       "defensive_work_rate_low          0.000086\n",
       "defensive_work_rate_medium       0.000185\n",
       "defensive_work_rate_unknown      0.000107"
      ]
     },
     "execution_count": 461,
     "metadata": {},
     "output_type": "execute_result"
    }
   ],
   "source": [
    "rfr=RandomForestRegressor()\n",
    "rfr.fit(x_train, y_train)\n",
    "print(\"R^2: \", round(rfr.score(x_train, y_train), 4))\n",
    "coefs=pd.DataFrame(rfr.feature_importances_, x_train.columns, columns=['Coefficients'])\n",
    "coefs"
   ]
  },
  {
   "cell_type": "code",
   "execution_count": 462,
   "metadata": {},
   "outputs": [
    {
     "name": "stdout",
     "output_type": "stream",
     "text": [
      "        overall_rating_predicted\n",
      "89795                      80.40\n",
      "145987                     71.10\n",
      "81345                      65.30\n",
      "40399                      75.56\n",
      "143301                     78.20\n",
      "        overall_rating\n",
      "89795             81.0\n",
      "145987            72.0\n",
      "81345             65.0\n",
      "40399             76.0\n",
      "143301            76.0\n"
     ]
    }
   ],
   "source": [
    "pred=rfr.predict(x_test)\n",
    "print(pd.DataFrame(pred, y_test.index, columns=['overall_rating_predicted']).head())\n",
    "print(pd.DataFrame(y_test).head())"
   ]
  },
  {
   "cell_type": "code",
   "execution_count": 463,
   "metadata": {},
   "outputs": [
    {
     "name": "stderr",
     "output_type": "stream",
     "text": [
      "C:\\Users\\Roshiny Thomas\\Anaconda3\\lib\\site-packages\\scipy\\stats\\stats.py:1713: FutureWarning: Using a non-tuple sequence for multidimensional indexing is deprecated; use `arr[tuple(seq)]` instead of `arr[seq]`. In the future this will be interpreted as an array index, `arr[np.array(seq)]`, which will result either in an error or a different result.\n",
      "  return np.add.reduce(sorted[indexer] * weights, axis=axis) / sumval\n"
     ]
    },
    {
     "data": {
      "text/plain": [
       "Text(0.5,0,'errors')"
      ]
     },
     "execution_count": 463,
     "metadata": {},
     "output_type": "execute_result"
    },
    {
     "data": {
      "image/png": "[encoded data removed]",
      "text/plain": [
       "<Figure size 1080x360 with 2 Axes>"
      ]
     },
     "metadata": {
      "needs_background": "light"
     },
     "output_type": "display_data"
    }
   ],
   "source": [
    "plt.figure(figsize=(15,5))\n",
    "plt.subplot(1,2,1)\n",
    "plt.scatter(y_test, pred, c='red')\n",
    "plt.subplot(1,2,2)\n",
    "sns.distplot(y_test-pred)\n",
    "plt.xlabel('errors')"
   ]
  },
  {
   "cell_type": "markdown",
   "metadata": {},
   "source": [
    "We definitely see an improvement in the predicted values. The fit or R^2 has jumped to 99%, and none of the attribute coeeficients have negative signs. The signs and magnitudes are hence, as expected.\n",
    "\n",
    "A quick glance at the coefficients show that increase in 'reactions' score can raise overall rating by 0.48 points, the highest so far."
   ]
  },
  {
   "cell_type": "code",
   "execution_count": 383,
   "metadata": {},
   "outputs": [
    {
     "name": "stdout",
     "output_type": "stream",
     "text": [
      "MAE:  0.5899 \n",
      "MSE:  1.0761 \n",
      "RMSE:  1.0374\n"
     ]
    }
   ],
   "source": [
    "print(\"MAE: \", round(metrics.mean_absolute_error(y_test, pred), 4), \"\\nMSE: \", round(metrics.mean_squared_error(y_test, pred), 4), \"\\nRMSE: \", round(np.sqrt(metrics.mean_squared_error(y_test, pred)), 4))"
   ]
  },
  {
   "cell_type": "markdown",
   "metadata": {},
   "source": [
    "## Conclusion:\n",
    "\n",
    "Of all the models considered here, the obvious choice would be the Random Forests regressor, which has explained the dependent variable upto 99.5%. It can be seen from the predictions and y-test values how similar they are. Since all the attributes are related to performance, it makes sense that the coefficients for all the attributes are positive. All the listed attributes can hence be concluded as contributing to explaining the overall_rating score. Player reactions to changes on the field has the highest contribution to overall_rating when all other attributes are kept constant, and this is a very reasonable interpretaion. The palyer who can best respond to changes that happen on the field, can be seen as the one who wields his abilities well at the apt time."
   ]
  }
 ],
 "metadata": {
  "kernelspec": {
   "display_name": "Python 3",
   "language": "python",
   "name": "python3"
  },
  "language_info": {
   "codemirror_mode": {
    "name": "ipython",
    "version": 3
   },
   "file_extension": ".py",
   "mimetype": "text/x-python",
   "name": "python",
   "nbconvert_exporter": "python",
   "pygments_lexer": "ipython3",
   "version": "3.7.1"
  }
 },
 "nbformat": 4,
 "nbformat_minor": 2
}
